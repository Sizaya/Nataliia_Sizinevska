{
 "cells": [
  {
   "cell_type": "code",
   "execution_count": 2,
   "id": "44153161",
   "metadata": {},
   "outputs": [],
   "source": [
    "import tensorflow as tf\n",
    "from tensorflow.keras.layers import Conv2D, MaxPooling2D, Flatten, Dense\n",
    "from tensorflow.keras.callbacks import TensorBoard"
   ]
  },
  {
   "cell_type": "code",
   "execution_count": 3,
   "id": "a1e309f1",
   "metadata": {},
   "outputs": [],
   "source": [
    "# Задаємо кількість класів\n",
    "num_classes = 10"
   ]
  },
  {
   "cell_type": "code",
   "execution_count": 4,
   "id": "86916d86",
   "metadata": {},
   "outputs": [],
   "source": [
    "# Задаємо розмір вхідного зображення\n",
    "input_shape = (32, 32, 3)"
   ]
  },
  {
   "cell_type": "code",
   "execution_count": 6,
   "id": "058c4a38",
   "metadata": {},
   "outputs": [],
   "source": [
    "# Створюємо модель\n",
    "model = tf.keras.Sequential([\n",
    "    Conv2D(32, kernel_size=(3, 3), activation='relu', input_shape=input_shape),\n",
    "    MaxPooling2D(pool_size=(2, 2)),\n",
    "    Conv2D(64, kernel_size=(3, 3), activation='relu'),\n",
    "    MaxPooling2D(pool_size=(2, 2)),\n",
    "    Conv2D(128, kernel_size=(3, 3), activation='relu'),\n",
    "    MaxPooling2D(pool_size=(2, 2)),\n",
    "    Flatten(),\n",
    "    Dense(128, activation='relu'),\n",
    "    Dense(num_classes, activation='softmax')\n",
    "])"
   ]
  },
  {
   "cell_type": "code",
   "execution_count": 7,
   "id": "555111a5",
   "metadata": {},
   "outputs": [],
   "source": [
    "# Компілюємо модель\n",
    "model.compile(optimizer='adam', loss='categorical_crossentropy', metrics=['accuracy'])"
   ]
  },
  {
   "cell_type": "code",
   "execution_count": 8,
   "id": "d58e41de",
   "metadata": {},
   "outputs": [],
   "source": [
    "# Встановлюємо TensorBoard callback\n",
    "tensorboard_callback = TensorBoard(log_dir='logs')"
   ]
  },
  {
   "cell_type": "code",
   "execution_count": 9,
   "id": "3cd2e30b",
   "metadata": {},
   "outputs": [],
   "source": [
    "# Завантажуємо та підготовлюємо дані\n",
    "(X_train, y_train), (X_test, y_test) = tf.keras.datasets.cifar10.load_data()\n",
    "X_train = X_train / 255.0\n",
    "X_test = X_test / 255.0\n",
    "y_train = tf.keras.utils.to_categorical(y_train, num_classes)\n",
    "y_test = tf.keras.utils.to_categorical(y_test, num_classes)"
   ]
  },
  {
   "cell_type": "code",
   "execution_count": 10,
   "id": "636599bf",
   "metadata": {},
   "outputs": [
    {
     "name": "stderr",
     "output_type": "stream",
     "text": [
      "2023-05-11 19:40:05.965191: W tensorflow/tsl/framework/cpu_allocator_impl.cc:83] Allocation of 614400000 exceeds 10% of free system memory.\n"
     ]
    },
    {
     "name": "stdout",
     "output_type": "stream",
     "text": [
      "Epoch 1/10\n",
      "  1/391 [..............................] - ETA: 11:02 - loss: 2.3049 - accuracy: 0.1328"
     ]
    },
    {
     "name": "stderr",
     "output_type": "stream",
     "text": [
      "2023-05-11 19:40:08.347796: W tensorflow/tsl/framework/cpu_allocator_impl.cc:83] Allocation of 19663488 exceeds 10% of free system memory.\n",
      "2023-05-11 19:40:08.348087: W tensorflow/tsl/framework/cpu_allocator_impl.cc:83] Allocation of 19663488 exceeds 10% of free system memory.\n"
     ]
    },
    {
     "name": "stdout",
     "output_type": "stream",
     "text": [
      "\b\b\b\b\b\b\b\b\b\b\b\b\b\b\b\b\b\b\b\b\b\b\b\b\b\b\b\b\b\b\b\b\b\b\b\b\b\b\b\b\b\b\b\b\b\b\b\b\b\b\b\b\b\b\b\b\b\b\b\b\b\b\b\b\b\b\b\b\b\b\b\b\b\b\b\b\b\b\b\b\b\b\b\b\b\b\b\r",
      "  2/391 [..............................] - ETA: 1:19 - loss: 2.2953 - accuracy: 0.1094 "
     ]
    },
    {
     "name": "stderr",
     "output_type": "stream",
     "text": [
      "2023-05-11 19:40:08.566599: W tensorflow/tsl/framework/cpu_allocator_impl.cc:83] Allocation of 19663488 exceeds 10% of free system memory.\n",
      "2023-05-11 19:40:08.570027: W tensorflow/tsl/framework/cpu_allocator_impl.cc:83] Allocation of 19663488 exceeds 10% of free system memory.\n"
     ]
    },
    {
     "name": "stdout",
     "output_type": "stream",
     "text": [
      "391/391 [==============================] - 72s 180ms/step - loss: 1.6390 - accuracy: 0.4016 - val_loss: 1.3497 - val_accuracy: 0.5139\n",
      "Epoch 2/10\n",
      "391/391 [==============================] - 69s 176ms/step - loss: 1.2844 - accuracy: 0.5431 - val_loss: 1.1861 - val_accuracy: 0.5762\n",
      "Epoch 3/10\n",
      "391/391 [==============================] - 70s 180ms/step - loss: 1.1174 - accuracy: 0.6078 - val_loss: 1.0732 - val_accuracy: 0.6210\n",
      "Epoch 4/10\n",
      "391/391 [==============================] - 62s 159ms/step - loss: 1.0194 - accuracy: 0.6430 - val_loss: 1.0720 - val_accuracy: 0.6213\n",
      "Epoch 5/10\n",
      "391/391 [==============================] - 64s 163ms/step - loss: 0.9296 - accuracy: 0.6774 - val_loss: 1.0219 - val_accuracy: 0.6421\n",
      "Epoch 6/10\n",
      "391/391 [==============================] - 63s 161ms/step - loss: 0.8646 - accuracy: 0.7005 - val_loss: 0.9051 - val_accuracy: 0.6863\n",
      "Epoch 7/10\n",
      "391/391 [==============================] - 62s 159ms/step - loss: 0.7954 - accuracy: 0.7228 - val_loss: 0.8797 - val_accuracy: 0.7012\n",
      "Epoch 8/10\n",
      "391/391 [==============================] - 63s 161ms/step - loss: 0.7427 - accuracy: 0.7421 - val_loss: 0.8514 - val_accuracy: 0.7097\n",
      "Epoch 9/10\n",
      "391/391 [==============================] - 64s 164ms/step - loss: 0.6970 - accuracy: 0.7587 - val_loss: 0.8535 - val_accuracy: 0.7096\n",
      "Epoch 10/10\n",
      "391/391 [==============================] - 64s 163ms/step - loss: 0.6568 - accuracy: 0.7712 - val_loss: 0.8175 - val_accuracy: 0.7241\n"
     ]
    },
    {
     "data": {
      "text/plain": [
       "<keras.callbacks.History at 0x7f31c4045f40>"
      ]
     },
     "execution_count": 10,
     "metadata": {},
     "output_type": "execute_result"
    }
   ],
   "source": [
    "# Навчаємо модель з використанням TensorBoard callback\n",
    "model.fit(X_train, y_train, batch_size=128, epochs=10, verbose=1, validation_data=(X_test, y_test), callbacks=[tensorboard_callback])"
   ]
  },
  {
   "cell_type": "code",
   "execution_count": null,
   "id": "d615662c",
   "metadata": {},
   "outputs": [],
   "source": []
  }
 ],
 "metadata": {
  "kernelspec": {
   "display_name": "Python 3 (ipykernel)",
   "language": "python",
   "name": "python3"
  },
  "language_info": {
   "codemirror_mode": {
    "name": "ipython",
    "version": 3
   },
   "file_extension": ".py",
   "mimetype": "text/x-python",
   "name": "python",
   "nbconvert_exporter": "python",
   "pygments_lexer": "ipython3",
   "version": "3.9.2"
  }
 },
 "nbformat": 4,
 "nbformat_minor": 5
}
