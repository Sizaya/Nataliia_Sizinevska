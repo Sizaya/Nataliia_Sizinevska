{
 "cells": [
  {
   "cell_type": "code",
   "execution_count": 1,
   "id": "df052ce3",
   "metadata": {},
   "outputs": [],
   "source": [
    "from sklearn import datasets\n",
    "import matplotlib.pyplot as plt\n",
    "from sklearn import metrics\n",
    "from sklearn.cluster import KMeans\n",
    "from sklearn.cluster import DBSCAN\n",
    "from sklearn.decomposition import PCA\n",
    "from scipy.cluster.hierarchy import linkage, dendrogram"
   ]
  },
  {
   "cell_type": "code",
   "execution_count": 2,
   "id": "6d1e378e",
   "metadata": {},
   "outputs": [],
   "source": [
    "wine_df = datasets.load_wine()"
   ]
  },
  {
   "cell_type": "code",
   "execution_count": 3,
   "id": "ddd3f8c4",
   "metadata": {},
   "outputs": [
    {
     "data": {
      "text/plain": [
       "array([0, 0, 0, 0, 0, 0, 0, 0, 0, 0, 0, 0, 0, 0, 0, 0, 0, 0, 0, 0, 0, 0,\n",
       "       0, 0, 0, 0, 0, 0, 0, 0, 0, 0, 0, 0, 0, 0, 0, 0, 0, 0, 0, 0, 0, 0,\n",
       "       0, 0, 0, 0, 0, 0, 0, 0, 0, 0, 0, 0, 0, 0, 0, 1, 1, 1, 1, 1, 1, 1,\n",
       "       1, 1, 1, 1, 1, 1, 1, 1, 1, 1, 1, 1, 1, 1, 1, 1, 1, 1, 1, 1, 1, 1,\n",
       "       1, 1, 1, 1, 1, 1, 1, 1, 1, 1, 1, 1, 1, 1, 1, 1, 1, 1, 1, 1, 1, 1,\n",
       "       1, 1, 1, 1, 1, 1, 1, 1, 1, 1, 1, 1, 1, 1, 1, 1, 1, 1, 1, 1, 2, 2,\n",
       "       2, 2, 2, 2, 2, 2, 2, 2, 2, 2, 2, 2, 2, 2, 2, 2, 2, 2, 2, 2, 2, 2,\n",
       "       2, 2, 2, 2, 2, 2, 2, 2, 2, 2, 2, 2, 2, 2, 2, 2, 2, 2, 2, 2, 2, 2,\n",
       "       2, 2])"
      ]
     },
     "execution_count": 3,
     "metadata": {},
     "output_type": "execute_result"
    }
   ],
   "source": [
    "y = wine_df.target\n",
    "y"
   ]
  },
  {
   "cell_type": "code",
   "execution_count": 4,
   "id": "436f130b",
   "metadata": {},
   "outputs": [],
   "source": [
    "model = KMeans(n_clusters=3)"
   ]
  },
  {
   "cell_type": "code",
   "execution_count": 5,
   "id": "91f60f3c",
   "metadata": {},
   "outputs": [
    {
     "name": "stderr",
     "output_type": "stream",
     "text": [
      "/home/nataliia/Documents/Py/DZ_Nataliia_Sizinevska/venv/lib/python3.9/site-packages/sklearn/cluster/_kmeans.py:870: FutureWarning: The default value of `n_init` will change from 10 to 'auto' in 1.4. Set the value of `n_init` explicitly to suppress the warning\n",
      "  warnings.warn(\n"
     ]
    },
    {
     "data": {
      "text/html": [
       "<style>#sk-container-id-1 {color: black;background-color: white;}#sk-container-id-1 pre{padding: 0;}#sk-container-id-1 div.sk-toggleable {background-color: white;}#sk-container-id-1 label.sk-toggleable__label {cursor: pointer;display: block;width: 100%;margin-bottom: 0;padding: 0.3em;box-sizing: border-box;text-align: center;}#sk-container-id-1 label.sk-toggleable__label-arrow:before {content: \"▸\";float: left;margin-right: 0.25em;color: #696969;}#sk-container-id-1 label.sk-toggleable__label-arrow:hover:before {color: black;}#sk-container-id-1 div.sk-estimator:hover label.sk-toggleable__label-arrow:before {color: black;}#sk-container-id-1 div.sk-toggleable__content {max-height: 0;max-width: 0;overflow: hidden;text-align: left;background-color: #f0f8ff;}#sk-container-id-1 div.sk-toggleable__content pre {margin: 0.2em;color: black;border-radius: 0.25em;background-color: #f0f8ff;}#sk-container-id-1 input.sk-toggleable__control:checked~div.sk-toggleable__content {max-height: 200px;max-width: 100%;overflow: auto;}#sk-container-id-1 input.sk-toggleable__control:checked~label.sk-toggleable__label-arrow:before {content: \"▾\";}#sk-container-id-1 div.sk-estimator input.sk-toggleable__control:checked~label.sk-toggleable__label {background-color: #d4ebff;}#sk-container-id-1 div.sk-label input.sk-toggleable__control:checked~label.sk-toggleable__label {background-color: #d4ebff;}#sk-container-id-1 input.sk-hidden--visually {border: 0;clip: rect(1px 1px 1px 1px);clip: rect(1px, 1px, 1px, 1px);height: 1px;margin: -1px;overflow: hidden;padding: 0;position: absolute;width: 1px;}#sk-container-id-1 div.sk-estimator {font-family: monospace;background-color: #f0f8ff;border: 1px dotted black;border-radius: 0.25em;box-sizing: border-box;margin-bottom: 0.5em;}#sk-container-id-1 div.sk-estimator:hover {background-color: #d4ebff;}#sk-container-id-1 div.sk-parallel-item::after {content: \"\";width: 100%;border-bottom: 1px solid gray;flex-grow: 1;}#sk-container-id-1 div.sk-label:hover label.sk-toggleable__label {background-color: #d4ebff;}#sk-container-id-1 div.sk-serial::before {content: \"\";position: absolute;border-left: 1px solid gray;box-sizing: border-box;top: 0;bottom: 0;left: 50%;z-index: 0;}#sk-container-id-1 div.sk-serial {display: flex;flex-direction: column;align-items: center;background-color: white;padding-right: 0.2em;padding-left: 0.2em;position: relative;}#sk-container-id-1 div.sk-item {position: relative;z-index: 1;}#sk-container-id-1 div.sk-parallel {display: flex;align-items: stretch;justify-content: center;background-color: white;position: relative;}#sk-container-id-1 div.sk-item::before, #sk-container-id-1 div.sk-parallel-item::before {content: \"\";position: absolute;border-left: 1px solid gray;box-sizing: border-box;top: 0;bottom: 0;left: 50%;z-index: -1;}#sk-container-id-1 div.sk-parallel-item {display: flex;flex-direction: column;z-index: 1;position: relative;background-color: white;}#sk-container-id-1 div.sk-parallel-item:first-child::after {align-self: flex-end;width: 50%;}#sk-container-id-1 div.sk-parallel-item:last-child::after {align-self: flex-start;width: 50%;}#sk-container-id-1 div.sk-parallel-item:only-child::after {width: 0;}#sk-container-id-1 div.sk-dashed-wrapped {border: 1px dashed gray;margin: 0 0.4em 0.5em 0.4em;box-sizing: border-box;padding-bottom: 0.4em;background-color: white;}#sk-container-id-1 div.sk-label label {font-family: monospace;font-weight: bold;display: inline-block;line-height: 1.2em;}#sk-container-id-1 div.sk-label-container {text-align: center;}#sk-container-id-1 div.sk-container {/* jupyter's `normalize.less` sets `[hidden] { display: none; }` but bootstrap.min.css set `[hidden] { display: none !important; }` so we also need the `!important` here to be able to override the default hidden behavior on the sphinx rendered scikit-learn.org. See: https://github.com/scikit-learn/scikit-learn/issues/21755 */display: inline-block !important;position: relative;}#sk-container-id-1 div.sk-text-repr-fallback {display: none;}</style><div id=\"sk-container-id-1\" class=\"sk-top-container\"><div class=\"sk-text-repr-fallback\"><pre>KMeans(n_clusters=3)</pre><b>In a Jupyter environment, please rerun this cell to show the HTML representation or trust the notebook. <br />On GitHub, the HTML representation is unable to render, please try loading this page with nbviewer.org.</b></div><div class=\"sk-container\" hidden><div class=\"sk-item\"><div class=\"sk-estimator sk-toggleable\"><input class=\"sk-toggleable__control sk-hidden--visually\" id=\"sk-estimator-id-1\" type=\"checkbox\" checked><label for=\"sk-estimator-id-1\" class=\"sk-toggleable__label sk-toggleable__label-arrow\">KMeans</label><div class=\"sk-toggleable__content\"><pre>KMeans(n_clusters=3)</pre></div></div></div></div></div>"
      ],
      "text/plain": [
       "KMeans(n_clusters=3)"
      ]
     },
     "execution_count": 5,
     "metadata": {},
     "output_type": "execute_result"
    }
   ],
   "source": [
    "model.fit(wine_df.data)"
   ]
  },
  {
   "cell_type": "code",
   "execution_count": 6,
   "id": "9b980d92",
   "metadata": {},
   "outputs": [],
   "source": [
    "labels = model.labels_\n",
    "y = wine_df.target"
   ]
  },
  {
   "cell_type": "code",
   "execution_count": 7,
   "id": "cb489276",
   "metadata": {},
   "outputs": [
    {
     "name": "stdout",
     "output_type": "stream",
     "text": [
      "Homogeneity: 0.429\n",
      "Completeness: 0.429\n",
      "V-measure: 0.429\n",
      "Adjusted Rand Index: 0.371\n",
      "Adjusted Mutual Information: 0.423\n",
      "Silhouette Coefficient: 0.571\n"
     ]
    }
   ],
   "source": [
    "print(f\"Homogeneity: {metrics.homogeneity_score(y, labels):.3f}\")\n",
    "print(f\"Completeness: {metrics.completeness_score(y, labels):.3f}\")\n",
    "print(f\"V-measure: {metrics.v_measure_score(y, labels):.3f}\")\n",
    "print(f\"Adjusted Rand Index: {metrics.adjusted_rand_score(y, labels):.3f}\")\n",
    "print(\n",
    "    \"Adjusted Mutual Information:\"\n",
    "    f\" {metrics.adjusted_mutual_info_score(y, labels):.3f}\"\n",
    ")\n",
    "print(f\"Silhouette Coefficient: {metrics.silhouette_score(wine_df.data, labels):.3f}\")"
   ]
  },
  {
   "cell_type": "code",
   "execution_count": 8,
   "id": "e72e82c9",
   "metadata": {},
   "outputs": [],
   "source": [
    "prediction = model.predict(wine_df.data)"
   ]
  },
  {
   "cell_type": "code",
   "execution_count": 9,
   "id": "0c59de58",
   "metadata": {},
   "outputs": [
    {
     "name": "stdout",
     "output_type": "stream",
     "text": [
      "[1 1 1 1 2 1 1 1 1 1 1 1 1 1 1 1 1 1 1 2 2 2 1 1 2 2 1 1 2 1 1 1 1 1 1 2 2\n",
      " 1 1 2 2 1 1 2 2 1 1 1 1 1 1 1 1 1 1 1 1 1 1 0 2 0 2 0 0 2 0 0 2 2 2 0 0 1\n",
      " 2 0 0 0 2 0 0 2 2 0 0 0 0 0 2 2 0 0 0 0 0 2 2 0 2 0 2 0 0 0 2 0 0 0 0 2 0\n",
      " 0 2 0 0 0 0 0 0 0 2 0 0 0 0 0 0 0 0 0 2 0 0 2 2 2 2 0 0 0 2 2 0 0 2 2 0 2\n",
      " 2 0 0 0 0 2 2 2 0 2 2 2 0 2 0 2 2 0 2 2 2 2 0 0 2 2 2 2 2 0]\n"
     ]
    }
   ],
   "source": [
    "print(prediction)"
   ]
  },
  {
   "cell_type": "code",
   "execution_count": 14,
   "id": "71b1ca8f",
   "metadata": {},
   "outputs": [
    {
     "data": {
      "text/plain": [
       "<matplotlib.collections.PathCollection at 0x7f845aab13d0>"
      ]
     },
     "execution_count": 14,
     "metadata": {},
     "output_type": "execute_result"
    },
    {
     "data": {
      "image/png": "[encoded data removed]",
      "text/plain": [
       "<Figure size 640x480 with 1 Axes>"
      ]
     },
     "metadata": {},
     "output_type": "display_data"
    }
   ],
   "source": [
    "cluster_0 = wine_df.data[prediction == 0]\n",
    "cluster_1 = wine_df.data[prediction == 1]\n",
    "cluster_2 = wine_df.data[prediction == 2]\n",
    "plt.scatter(cluster_0[:,0], cluster_0[:,3], color = 'red')\n",
    "plt.scatter(cluster_1[:,0], cluster_1[:,3], color = 'black')\n",
    "plt.scatter(cluster_2[:,0], cluster_2[:,3], color = 'yellow')"
   ]
  },
  {
   "cell_type": "code",
   "execution_count": 14,
   "id": "a546d691",
   "metadata": {},
   "outputs": [
    {
     "data": {
      "text/plain": [
       "array([[1.237000e+01, 9.400000e-01, 1.360000e+00, 1.060000e+01,\n",
       "        8.800000e+01, 1.980000e+00, 5.700000e-01, 2.800000e-01,\n",
       "        4.200000e-01, 1.950000e+00, 1.050000e+00, 1.820000e+00,\n",
       "        5.200000e+02],\n",
       "       [1.264000e+01, 1.360000e+00, 2.020000e+00, 1.680000e+01,\n",
       "        1.000000e+02, 2.020000e+00, 1.410000e+00, 5.300000e-01,\n",
       "        6.200000e-01, 5.750000e+00, 9.800000e-01, 1.590000e+00,\n",
       "        4.500000e+02],\n",
       "       [1.237000e+01, 1.130000e+00, 2.160000e+00, 1.900000e+01,\n",
       "        8.700000e+01, 3.500000e+00, 3.100000e+00, 1.900000e-01,\n",
       "        1.870000e+00, 4.450000e+00, 1.220000e+00, 2.870000e+00,\n",
       "        4.200000e+02],\n",
       "       [1.217000e+01, 1.450000e+00, 2.530000e+00, 1.900000e+01,\n",
       "        1.040000e+02, 1.890000e+00, 1.750000e+00, 4.500000e-01,\n",
       "        1.030000e+00, 2.950000e+00, 1.450000e+00, 2.230000e+00,\n",
       "        3.550000e+02],\n",
       "       [1.311000e+01, 1.010000e+00, 1.700000e+00, 1.500000e+01,\n",
       "        7.800000e+01, 2.980000e+00, 3.180000e+00, 2.600000e-01,\n",
       "        2.280000e+00, 5.300000e+00, 1.120000e+00, 3.180000e+00,\n",
       "        5.020000e+02],\n",
       "       [1.237000e+01, 1.170000e+00, 1.920000e+00, 1.960000e+01,\n",
       "        7.800000e+01, 2.110000e+00, 2.000000e+00, 2.700000e-01,\n",
       "        1.040000e+00, 4.680000e+00, 1.120000e+00, 3.480000e+00,\n",
       "        5.100000e+02],\n",
       "       [1.386000e+01, 1.510000e+00, 2.670000e+00, 2.500000e+01,\n",
       "        8.600000e+01, 2.950000e+00, 2.860000e+00, 2.100000e-01,\n",
       "        1.870000e+00, 3.380000e+00, 1.360000e+00, 3.160000e+00,\n",
       "        4.100000e+02],\n",
       "       [1.349000e+01, 1.660000e+00, 2.240000e+00, 2.400000e+01,\n",
       "        8.700000e+01, 1.880000e+00, 1.840000e+00, 2.700000e-01,\n",
       "        1.030000e+00, 3.740000e+00, 9.800000e-01, 2.780000e+00,\n",
       "        4.720000e+02],\n",
       "       [1.166000e+01, 1.880000e+00, 1.920000e+00, 1.600000e+01,\n",
       "        9.700000e+01, 1.610000e+00, 1.570000e+00, 3.400000e-01,\n",
       "        1.150000e+00, 3.800000e+00, 1.230000e+00, 2.140000e+00,\n",
       "        4.280000e+02],\n",
       "       [1.303000e+01, 9.000000e-01, 1.710000e+00, 1.600000e+01,\n",
       "        8.600000e+01, 1.950000e+00, 2.030000e+00, 2.400000e-01,\n",
       "        1.460000e+00, 4.600000e+00, 1.190000e+00, 2.480000e+00,\n",
       "        3.920000e+02],\n",
       "       [1.184000e+01, 2.890000e+00, 2.230000e+00, 1.800000e+01,\n",
       "        1.120000e+02, 1.720000e+00, 1.320000e+00, 4.300000e-01,\n",
       "        9.500000e-01, 2.650000e+00, 9.600000e-01, 2.520000e+00,\n",
       "        5.000000e+02],\n",
       "       [1.270000e+01, 3.870000e+00, 2.400000e+00, 2.300000e+01,\n",
       "        1.010000e+02, 2.830000e+00, 2.550000e+00, 4.300000e-01,\n",
       "        1.950000e+00, 2.570000e+00, 1.190000e+00, 3.130000e+00,\n",
       "        4.630000e+02],\n",
       "       [1.200000e+01, 9.200000e-01, 2.000000e+00, 1.900000e+01,\n",
       "        8.600000e+01, 2.420000e+00, 2.260000e+00, 3.000000e-01,\n",
       "        1.430000e+00, 2.500000e+00, 1.380000e+00, 3.120000e+00,\n",
       "        2.780000e+02],\n",
       "       [1.305000e+01, 3.860000e+00, 2.320000e+00, 2.250000e+01,\n",
       "        8.500000e+01, 1.650000e+00, 1.590000e+00, 6.100000e-01,\n",
       "        1.620000e+00, 4.800000e+00, 8.400000e-01, 2.010000e+00,\n",
       "        5.150000e+02],\n",
       "       [1.184000e+01, 8.900000e-01, 2.580000e+00, 1.800000e+01,\n",
       "        9.400000e+01, 2.200000e+00, 2.210000e+00, 2.200000e-01,\n",
       "        2.350000e+00, 3.050000e+00, 7.900000e-01, 3.080000e+00,\n",
       "        5.200000e+02],\n",
       "       [1.267000e+01, 9.800000e-01, 2.240000e+00, 1.800000e+01,\n",
       "        9.900000e+01, 2.200000e+00, 1.940000e+00, 3.000000e-01,\n",
       "        1.460000e+00, 2.620000e+00, 1.230000e+00, 3.160000e+00,\n",
       "        4.500000e+02],\n",
       "       [1.216000e+01, 1.610000e+00, 2.310000e+00, 2.280000e+01,\n",
       "        9.000000e+01, 1.780000e+00, 1.690000e+00, 4.300000e-01,\n",
       "        1.560000e+00, 2.450000e+00, 1.330000e+00, 2.260000e+00,\n",
       "        4.950000e+02],\n",
       "       [1.165000e+01, 1.670000e+00, 2.620000e+00, 2.600000e+01,\n",
       "        8.800000e+01, 1.920000e+00, 1.610000e+00, 4.000000e-01,\n",
       "        1.340000e+00, 2.600000e+00, 1.360000e+00, 3.210000e+00,\n",
       "        5.620000e+02],\n",
       "       [1.208000e+01, 1.830000e+00, 2.320000e+00, 1.850000e+01,\n",
       "        8.100000e+01, 1.600000e+00, 1.500000e+00, 5.200000e-01,\n",
       "        1.640000e+00, 2.400000e+00, 1.080000e+00, 2.270000e+00,\n",
       "        4.800000e+02],\n",
       "       [1.200000e+01, 1.510000e+00, 2.420000e+00, 2.200000e+01,\n",
       "        8.600000e+01, 1.450000e+00, 1.250000e+00, 5.000000e-01,\n",
       "        1.630000e+00, 3.600000e+00, 1.050000e+00, 2.650000e+00,\n",
       "        4.500000e+02],\n",
       "       [1.269000e+01, 1.530000e+00, 2.260000e+00, 2.070000e+01,\n",
       "        8.000000e+01, 1.380000e+00, 1.460000e+00, 5.800000e-01,\n",
       "        1.620000e+00, 3.050000e+00, 9.600000e-01, 2.060000e+00,\n",
       "        4.950000e+02],\n",
       "       [1.229000e+01, 2.830000e+00, 2.220000e+00, 1.800000e+01,\n",
       "        8.800000e+01, 2.450000e+00, 2.250000e+00, 2.500000e-01,\n",
       "        1.990000e+00, 2.150000e+00, 1.150000e+00, 3.300000e+00,\n",
       "        2.900000e+02],\n",
       "       [1.162000e+01, 1.990000e+00, 2.280000e+00, 1.800000e+01,\n",
       "        9.800000e+01, 3.020000e+00, 2.260000e+00, 1.700000e-01,\n",
       "        1.350000e+00, 3.250000e+00, 1.160000e+00, 2.960000e+00,\n",
       "        3.450000e+02],\n",
       "       [1.229000e+01, 1.410000e+00, 1.980000e+00, 1.600000e+01,\n",
       "        8.500000e+01, 2.550000e+00, 2.500000e+00, 2.900000e-01,\n",
       "        1.770000e+00, 2.900000e+00, 1.230000e+00, 2.740000e+00,\n",
       "        4.280000e+02],\n",
       "       [1.229000e+01, 3.170000e+00, 2.210000e+00, 1.800000e+01,\n",
       "        8.800000e+01, 2.850000e+00, 2.990000e+00, 4.500000e-01,\n",
       "        2.810000e+00, 2.300000e+00, 1.420000e+00, 2.830000e+00,\n",
       "        4.060000e+02],\n",
       "       [1.260000e+01, 1.340000e+00, 1.900000e+00, 1.850000e+01,\n",
       "        8.800000e+01, 1.450000e+00, 1.360000e+00, 2.900000e-01,\n",
       "        1.350000e+00, 2.450000e+00, 1.040000e+00, 2.770000e+00,\n",
       "        5.620000e+02],\n",
       "       [1.234000e+01, 2.450000e+00, 2.460000e+00, 2.100000e+01,\n",
       "        9.800000e+01, 2.560000e+00, 2.110000e+00, 3.400000e-01,\n",
       "        1.310000e+00, 2.800000e+00, 8.000000e-01, 3.380000e+00,\n",
       "        4.380000e+02],\n",
       "       [1.182000e+01, 1.720000e+00, 1.880000e+00, 1.950000e+01,\n",
       "        8.600000e+01, 2.500000e+00, 1.640000e+00, 3.700000e-01,\n",
       "        1.420000e+00, 2.060000e+00, 9.400000e-01, 2.440000e+00,\n",
       "        4.150000e+02],\n",
       "       [1.242000e+01, 2.550000e+00, 2.270000e+00, 2.200000e+01,\n",
       "        9.000000e+01, 1.680000e+00, 1.840000e+00, 6.600000e-01,\n",
       "        1.420000e+00, 2.700000e+00, 8.600000e-01, 3.300000e+00,\n",
       "        3.150000e+02],\n",
       "       [1.225000e+01, 1.730000e+00, 2.120000e+00, 1.900000e+01,\n",
       "        8.000000e+01, 1.650000e+00, 2.030000e+00, 3.700000e-01,\n",
       "        1.630000e+00, 3.400000e+00, 1.000000e+00, 3.170000e+00,\n",
       "        5.100000e+02],\n",
       "       [1.272000e+01, 1.750000e+00, 2.280000e+00, 2.250000e+01,\n",
       "        8.400000e+01, 1.380000e+00, 1.760000e+00, 4.800000e-01,\n",
       "        1.630000e+00, 3.300000e+00, 8.800000e-01, 2.420000e+00,\n",
       "        4.880000e+02],\n",
       "       [1.222000e+01, 1.290000e+00, 1.940000e+00, 1.900000e+01,\n",
       "        9.200000e+01, 2.360000e+00, 2.040000e+00, 3.900000e-01,\n",
       "        2.080000e+00, 2.700000e+00, 8.600000e-01, 3.020000e+00,\n",
       "        3.120000e+02],\n",
       "       [1.146000e+01, 3.740000e+00, 1.820000e+00, 1.950000e+01,\n",
       "        1.070000e+02, 3.180000e+00, 2.580000e+00, 2.400000e-01,\n",
       "        3.580000e+00, 2.900000e+00, 7.500000e-01, 2.810000e+00,\n",
       "        5.620000e+02],\n",
       "       [1.252000e+01, 2.430000e+00, 2.170000e+00, 2.100000e+01,\n",
       "        8.800000e+01, 2.550000e+00, 2.270000e+00, 2.600000e-01,\n",
       "        1.220000e+00, 2.000000e+00, 9.000000e-01, 2.780000e+00,\n",
       "        3.250000e+02],\n",
       "       [1.141000e+01, 7.400000e-01, 2.500000e+00, 2.100000e+01,\n",
       "        8.800000e+01, 2.480000e+00, 2.010000e+00, 4.200000e-01,\n",
       "        1.440000e+00, 3.080000e+00, 1.100000e+00, 2.310000e+00,\n",
       "        4.340000e+02],\n",
       "       [1.208000e+01, 1.390000e+00, 2.500000e+00, 2.250000e+01,\n",
       "        8.400000e+01, 2.560000e+00, 2.290000e+00, 4.300000e-01,\n",
       "        1.040000e+00, 2.900000e+00, 9.300000e-01, 3.190000e+00,\n",
       "        3.850000e+02],\n",
       "       [1.103000e+01, 1.510000e+00, 2.200000e+00, 2.150000e+01,\n",
       "        8.500000e+01, 2.460000e+00, 2.170000e+00, 5.200000e-01,\n",
       "        2.010000e+00, 1.900000e+00, 1.710000e+00, 2.870000e+00,\n",
       "        4.070000e+02],\n",
       "       [1.182000e+01, 1.470000e+00, 1.990000e+00, 2.080000e+01,\n",
       "        8.600000e+01, 1.980000e+00, 1.600000e+00, 3.000000e-01,\n",
       "        1.530000e+00, 1.950000e+00, 9.500000e-01, 3.330000e+00,\n",
       "        4.950000e+02],\n",
       "       [1.242000e+01, 1.610000e+00, 2.190000e+00, 2.250000e+01,\n",
       "        1.080000e+02, 2.000000e+00, 2.090000e+00, 3.400000e-01,\n",
       "        1.610000e+00, 2.060000e+00, 1.060000e+00, 2.960000e+00,\n",
       "        3.450000e+02],\n",
       "       [1.277000e+01, 3.430000e+00, 1.980000e+00, 1.600000e+01,\n",
       "        8.000000e+01, 1.630000e+00, 1.250000e+00, 4.300000e-01,\n",
       "        8.300000e-01, 3.400000e+00, 7.000000e-01, 2.120000e+00,\n",
       "        3.720000e+02],\n",
       "       [1.200000e+01, 3.430000e+00, 2.000000e+00, 1.900000e+01,\n",
       "        8.700000e+01, 2.000000e+00, 1.640000e+00, 3.700000e-01,\n",
       "        1.870000e+00, 1.280000e+00, 9.300000e-01, 3.050000e+00,\n",
       "        5.640000e+02],\n",
       "       [1.156000e+01, 2.050000e+00, 3.230000e+00, 2.850000e+01,\n",
       "        1.190000e+02, 3.180000e+00, 5.080000e+00, 4.700000e-01,\n",
       "        1.870000e+00, 6.000000e+00, 9.300000e-01, 3.690000e+00,\n",
       "        4.650000e+02],\n",
       "       [1.242000e+01, 4.430000e+00, 2.730000e+00, 2.650000e+01,\n",
       "        1.020000e+02, 2.200000e+00, 2.130000e+00, 4.300000e-01,\n",
       "        1.710000e+00, 2.080000e+00, 9.200000e-01, 3.120000e+00,\n",
       "        3.650000e+02],\n",
       "       [1.305000e+01, 5.800000e+00, 2.130000e+00, 2.150000e+01,\n",
       "        8.600000e+01, 2.620000e+00, 2.650000e+00, 3.000000e-01,\n",
       "        2.010000e+00, 2.600000e+00, 7.300000e-01, 3.100000e+00,\n",
       "        3.800000e+02],\n",
       "       [1.187000e+01, 4.310000e+00, 2.390000e+00, 2.100000e+01,\n",
       "        8.200000e+01, 2.860000e+00, 3.030000e+00, 2.100000e-01,\n",
       "        2.910000e+00, 2.800000e+00, 7.500000e-01, 3.640000e+00,\n",
       "        3.800000e+02],\n",
       "       [1.207000e+01, 2.160000e+00, 2.170000e+00, 2.100000e+01,\n",
       "        8.500000e+01, 2.600000e+00, 2.650000e+00, 3.700000e-01,\n",
       "        1.350000e+00, 2.760000e+00, 8.600000e-01, 3.280000e+00,\n",
       "        3.780000e+02],\n",
       "       [1.243000e+01, 1.530000e+00, 2.290000e+00, 2.150000e+01,\n",
       "        8.600000e+01, 2.740000e+00, 3.150000e+00, 3.900000e-01,\n",
       "        1.770000e+00, 3.940000e+00, 6.900000e-01, 2.840000e+00,\n",
       "        3.520000e+02],\n",
       "       [1.179000e+01, 2.130000e+00, 2.780000e+00, 2.850000e+01,\n",
       "        9.200000e+01, 2.130000e+00, 2.240000e+00, 5.800000e-01,\n",
       "        1.760000e+00, 3.000000e+00, 9.700000e-01, 2.440000e+00,\n",
       "        4.660000e+02],\n",
       "       [1.237000e+01, 1.630000e+00, 2.300000e+00, 2.450000e+01,\n",
       "        8.800000e+01, 2.220000e+00, 2.450000e+00, 4.000000e-01,\n",
       "        1.900000e+00, 2.120000e+00, 8.900000e-01, 2.780000e+00,\n",
       "        3.420000e+02],\n",
       "       [1.204000e+01, 4.300000e+00, 2.380000e+00, 2.200000e+01,\n",
       "        8.000000e+01, 2.100000e+00, 1.750000e+00, 4.200000e-01,\n",
       "        1.350000e+00, 2.600000e+00, 7.900000e-01, 2.570000e+00,\n",
       "        5.800000e+02],\n",
       "       [1.288000e+01, 2.990000e+00, 2.400000e+00, 2.000000e+01,\n",
       "        1.040000e+02, 1.300000e+00, 1.220000e+00, 2.400000e-01,\n",
       "        8.300000e-01, 5.400000e+00, 7.400000e-01, 1.420000e+00,\n",
       "        5.300000e+02],\n",
       "       [1.281000e+01, 2.310000e+00, 2.400000e+00, 2.400000e+01,\n",
       "        9.800000e+01, 1.150000e+00, 1.090000e+00, 2.700000e-01,\n",
       "        8.300000e-01, 5.700000e+00, 6.600000e-01, 1.360000e+00,\n",
       "        5.600000e+02],\n",
       "       [1.253000e+01, 5.510000e+00, 2.640000e+00, 2.500000e+01,\n",
       "        9.600000e+01, 1.790000e+00, 6.000000e-01, 6.300000e-01,\n",
       "        1.100000e+00, 5.000000e+00, 8.200000e-01, 1.690000e+00,\n",
       "        5.150000e+02],\n",
       "       [1.349000e+01, 3.590000e+00, 2.190000e+00, 1.950000e+01,\n",
       "        8.800000e+01, 1.620000e+00, 4.800000e-01, 5.800000e-01,\n",
       "        8.800000e-01, 5.700000e+00, 8.100000e-01, 1.820000e+00,\n",
       "        5.800000e+02],\n",
       "       [1.284000e+01, 2.960000e+00, 2.610000e+00, 2.400000e+01,\n",
       "        1.010000e+02, 2.320000e+00, 6.000000e-01, 5.300000e-01,\n",
       "        8.100000e-01, 4.920000e+00, 8.900000e-01, 2.150000e+00,\n",
       "        5.900000e+02],\n",
       "       [1.352000e+01, 3.170000e+00, 2.720000e+00, 2.350000e+01,\n",
       "        9.700000e+01, 1.550000e+00, 5.200000e-01, 5.000000e-01,\n",
       "        5.500000e-01, 4.350000e+00, 8.900000e-01, 2.060000e+00,\n",
       "        5.200000e+02],\n",
       "       [1.362000e+01, 4.950000e+00, 2.350000e+00, 2.000000e+01,\n",
       "        9.200000e+01, 2.000000e+00, 8.000000e-01, 4.700000e-01,\n",
       "        1.020000e+00, 4.400000e+00, 9.100000e-01, 2.050000e+00,\n",
       "        5.500000e+02],\n",
       "       [1.388000e+01, 5.040000e+00, 2.230000e+00, 2.000000e+01,\n",
       "        8.000000e+01, 9.800000e-01, 3.400000e-01, 4.000000e-01,\n",
       "        6.800000e-01, 4.900000e+00, 5.800000e-01, 1.330000e+00,\n",
       "        4.150000e+02],\n",
       "       [1.308000e+01, 3.900000e+00, 2.360000e+00, 2.150000e+01,\n",
       "        1.130000e+02, 1.410000e+00, 1.390000e+00, 3.400000e-01,\n",
       "        1.140000e+00, 9.400000e+00, 5.700000e-01, 1.330000e+00,\n",
       "        5.500000e+02],\n",
       "       [1.350000e+01, 3.120000e+00, 2.620000e+00, 2.400000e+01,\n",
       "        1.230000e+02, 1.400000e+00, 1.570000e+00, 2.200000e-01,\n",
       "        1.250000e+00, 8.600000e+00, 5.900000e-01, 1.300000e+00,\n",
       "        5.000000e+02],\n",
       "       [1.279000e+01, 2.670000e+00, 2.480000e+00, 2.200000e+01,\n",
       "        1.120000e+02, 1.480000e+00, 1.360000e+00, 2.400000e-01,\n",
       "        1.260000e+00, 1.080000e+01, 4.800000e-01, 1.470000e+00,\n",
       "        4.800000e+02],\n",
       "       [1.311000e+01, 1.900000e+00, 2.750000e+00, 2.550000e+01,\n",
       "        1.160000e+02, 2.200000e+00, 1.280000e+00, 2.600000e-01,\n",
       "        1.560000e+00, 7.100000e+00, 6.100000e-01, 1.330000e+00,\n",
       "        4.250000e+02],\n",
       "       [1.384000e+01, 4.120000e+00, 2.380000e+00, 1.950000e+01,\n",
       "        8.900000e+01, 1.800000e+00, 8.300000e-01, 4.800000e-01,\n",
       "        1.560000e+00, 9.010000e+00, 5.700000e-01, 1.640000e+00,\n",
       "        4.800000e+02],\n",
       "       [1.236000e+01, 3.830000e+00, 2.380000e+00, 2.100000e+01,\n",
       "        8.800000e+01, 2.300000e+00, 9.200000e-01, 5.000000e-01,\n",
       "        1.040000e+00, 7.650000e+00, 5.600000e-01, 1.580000e+00,\n",
       "        5.200000e+02],\n",
       "       [1.285000e+01, 3.270000e+00, 2.580000e+00, 2.200000e+01,\n",
       "        1.060000e+02, 1.650000e+00, 6.000000e-01, 6.000000e-01,\n",
       "        9.600000e-01, 5.580000e+00, 8.700000e-01, 2.110000e+00,\n",
       "        5.700000e+02],\n",
       "       [1.373000e+01, 4.360000e+00, 2.260000e+00, 2.250000e+01,\n",
       "        8.800000e+01, 1.280000e+00, 4.700000e-01, 5.200000e-01,\n",
       "        1.150000e+00, 6.620000e+00, 7.800000e-01, 1.750000e+00,\n",
       "        5.200000e+02],\n",
       "       [1.220000e+01, 3.030000e+00, 2.320000e+00, 1.900000e+01,\n",
       "        9.600000e+01, 1.250000e+00, 4.900000e-01, 4.000000e-01,\n",
       "        7.300000e-01, 5.500000e+00, 6.600000e-01, 1.830000e+00,\n",
       "        5.100000e+02],\n",
       "       [1.277000e+01, 2.390000e+00, 2.280000e+00, 1.950000e+01,\n",
       "        8.600000e+01, 1.390000e+00, 5.100000e-01, 4.800000e-01,\n",
       "        6.400000e-01, 9.899999e+00, 5.700000e-01, 1.630000e+00,\n",
       "        4.700000e+02],\n",
       "       [1.413000e+01, 4.100000e+00, 2.740000e+00, 2.450000e+01,\n",
       "        9.600000e+01, 2.050000e+00, 7.600000e-01, 5.600000e-01,\n",
       "        1.350000e+00, 9.200000e+00, 6.100000e-01, 1.600000e+00,\n",
       "        5.600000e+02]])"
      ]
     },
     "execution_count": 14,
     "metadata": {},
     "output_type": "execute_result"
    }
   ],
   "source": [
    "cluster_0"
   ]
  },
  {
   "cell_type": "code",
   "execution_count": 15,
   "id": "79487658",
   "metadata": {},
   "outputs": [
    {
     "data": {
      "text/plain": [
       "array([15.6, 11.2, 18.6, 16.8, 15.2, 14.6, 17.6, 14. , 16. , 18. , 16.8,\n",
       "       16. , 11.4, 12. , 17.2, 20. , 20. , 16.5, 16.6, 17.8, 16.1, 17. ,\n",
       "       16. , 22.5, 19.1, 17.2, 19.5, 19. , 18. , 15.5, 18.8, 15. , 18.9,\n",
       "       16. , 16. , 18.8, 17.4, 12.4, 17.2, 14. , 17.1, 16.4, 20.5, 16.3,\n",
       "       16.8, 16.7, 30. ])"
      ]
     },
     "execution_count": 15,
     "metadata": {},
     "output_type": "execute_result"
    }
   ],
   "source": [
    "cluster_1[:,3]"
   ]
  },
  {
   "cell_type": "code",
   "execution_count": 15,
   "id": "263d73e2",
   "metadata": {},
   "outputs": [],
   "source": [
    "dbscan = DBSCAN(eps=1.0, min_samples=4)"
   ]
  },
  {
   "cell_type": "code",
   "execution_count": 16,
   "id": "090be5c4",
   "metadata": {},
   "outputs": [
    {
     "data": {
      "text/html": [
       "<style>#sk-container-id-2 {color: black;background-color: white;}#sk-container-id-2 pre{padding: 0;}#sk-container-id-2 div.sk-toggleable {background-color: white;}#sk-container-id-2 label.sk-toggleable__label {cursor: pointer;display: block;width: 100%;margin-bottom: 0;padding: 0.3em;box-sizing: border-box;text-align: center;}#sk-container-id-2 label.sk-toggleable__label-arrow:before {content: \"▸\";float: left;margin-right: 0.25em;color: #696969;}#sk-container-id-2 label.sk-toggleable__label-arrow:hover:before {color: black;}#sk-container-id-2 div.sk-estimator:hover label.sk-toggleable__label-arrow:before {color: black;}#sk-container-id-2 div.sk-toggleable__content {max-height: 0;max-width: 0;overflow: hidden;text-align: left;background-color: #f0f8ff;}#sk-container-id-2 div.sk-toggleable__content pre {margin: 0.2em;color: black;border-radius: 0.25em;background-color: #f0f8ff;}#sk-container-id-2 input.sk-toggleable__control:checked~div.sk-toggleable__content {max-height: 200px;max-width: 100%;overflow: auto;}#sk-container-id-2 input.sk-toggleable__control:checked~label.sk-toggleable__label-arrow:before {content: \"▾\";}#sk-container-id-2 div.sk-estimator input.sk-toggleable__control:checked~label.sk-toggleable__label {background-color: #d4ebff;}#sk-container-id-2 div.sk-label input.sk-toggleable__control:checked~label.sk-toggleable__label {background-color: #d4ebff;}#sk-container-id-2 input.sk-hidden--visually {border: 0;clip: rect(1px 1px 1px 1px);clip: rect(1px, 1px, 1px, 1px);height: 1px;margin: -1px;overflow: hidden;padding: 0;position: absolute;width: 1px;}#sk-container-id-2 div.sk-estimator {font-family: monospace;background-color: #f0f8ff;border: 1px dotted black;border-radius: 0.25em;box-sizing: border-box;margin-bottom: 0.5em;}#sk-container-id-2 div.sk-estimator:hover {background-color: #d4ebff;}#sk-container-id-2 div.sk-parallel-item::after {content: \"\";width: 100%;border-bottom: 1px solid gray;flex-grow: 1;}#sk-container-id-2 div.sk-label:hover label.sk-toggleable__label {background-color: #d4ebff;}#sk-container-id-2 div.sk-serial::before {content: \"\";position: absolute;border-left: 1px solid gray;box-sizing: border-box;top: 0;bottom: 0;left: 50%;z-index: 0;}#sk-container-id-2 div.sk-serial {display: flex;flex-direction: column;align-items: center;background-color: white;padding-right: 0.2em;padding-left: 0.2em;position: relative;}#sk-container-id-2 div.sk-item {position: relative;z-index: 1;}#sk-container-id-2 div.sk-parallel {display: flex;align-items: stretch;justify-content: center;background-color: white;position: relative;}#sk-container-id-2 div.sk-item::before, #sk-container-id-2 div.sk-parallel-item::before {content: \"\";position: absolute;border-left: 1px solid gray;box-sizing: border-box;top: 0;bottom: 0;left: 50%;z-index: -1;}#sk-container-id-2 div.sk-parallel-item {display: flex;flex-direction: column;z-index: 1;position: relative;background-color: white;}#sk-container-id-2 div.sk-parallel-item:first-child::after {align-self: flex-end;width: 50%;}#sk-container-id-2 div.sk-parallel-item:last-child::after {align-self: flex-start;width: 50%;}#sk-container-id-2 div.sk-parallel-item:only-child::after {width: 0;}#sk-container-id-2 div.sk-dashed-wrapped {border: 1px dashed gray;margin: 0 0.4em 0.5em 0.4em;box-sizing: border-box;padding-bottom: 0.4em;background-color: white;}#sk-container-id-2 div.sk-label label {font-family: monospace;font-weight: bold;display: inline-block;line-height: 1.2em;}#sk-container-id-2 div.sk-label-container {text-align: center;}#sk-container-id-2 div.sk-container {/* jupyter's `normalize.less` sets `[hidden] { display: none; }` but bootstrap.min.css set `[hidden] { display: none !important; }` so we also need the `!important` here to be able to override the default hidden behavior on the sphinx rendered scikit-learn.org. See: https://github.com/scikit-learn/scikit-learn/issues/21755 */display: inline-block !important;position: relative;}#sk-container-id-2 div.sk-text-repr-fallback {display: none;}</style><div id=\"sk-container-id-2\" class=\"sk-top-container\"><div class=\"sk-text-repr-fallback\"><pre>DBSCAN(eps=1.0, min_samples=4)</pre><b>In a Jupyter environment, please rerun this cell to show the HTML representation or trust the notebook. <br />On GitHub, the HTML representation is unable to render, please try loading this page with nbviewer.org.</b></div><div class=\"sk-container\" hidden><div class=\"sk-item\"><div class=\"sk-estimator sk-toggleable\"><input class=\"sk-toggleable__control sk-hidden--visually\" id=\"sk-estimator-id-2\" type=\"checkbox\" checked><label for=\"sk-estimator-id-2\" class=\"sk-toggleable__label sk-toggleable__label-arrow\">DBSCAN</label><div class=\"sk-toggleable__content\"><pre>DBSCAN(eps=1.0, min_samples=4)</pre></div></div></div></div></div>"
      ],
      "text/plain": [
       "DBSCAN(eps=1.0, min_samples=4)"
      ]
     },
     "execution_count": 16,
     "metadata": {},
     "output_type": "execute_result"
    }
   ],
   "source": [
    "dbscan.fit(wine_df.data)"
   ]
  },
  {
   "cell_type": "code",
   "execution_count": 17,
   "id": "0253a413",
   "metadata": {},
   "outputs": [],
   "source": [
    "pca = PCA(n_components=2).fit(wine_df.data)\n",
    "pca_2d = pca.transform(wine_df.data)"
   ]
  },
  {
   "cell_type": "code",
   "execution_count": 18,
   "id": "ff1677c6",
   "metadata": {},
   "outputs": [
    {
     "data": {
      "image/png": "[encoded data removed]",
      "text/plain": [
       "<Figure size 640x480 with 1 Axes>"
      ]
     },
     "metadata": {},
     "output_type": "display_data"
    }
   ],
   "source": [
    "for i in range(0, pca_2d.shape[0]):\n",
    "    if dbscan.labels_[i] == 0:\n",
    "        c1 = plt.scatter(pca_2d[i, 0], pca_2d[i, 1], c='r', marker='+')\n",
    "    elif dbscan.labels_[i] == 1:\n",
    "        c2 = plt.scatter(pca_2d[i, 0], pca_2d[i, 1], c='g', marker='o')\n",
    "    elif dbscan.labels_[i] == 2:\n",
    "        c3 = plt.scatter(pca_2d[i, 0], pca_2d[i, 1], c='b', marker='*')\n",
    "    elif dbscan.labels_[i] == -1:\n",
    "        c3 = plt.scatter(pca_2d[i, 0], pca_2d[i, 1], c='y', marker='d')"
   ]
  },
  {
   "cell_type": "code",
   "execution_count": 19,
   "id": "4b03cb0e",
   "metadata": {},
   "outputs": [],
   "source": [
    "labes = dbscan.labels_"
   ]
  },
  {
   "cell_type": "code",
   "execution_count": 20,
   "id": "cc996fe4",
   "metadata": {},
   "outputs": [
    {
     "data": {
      "text/plain": [
       "array([0, 0, 0, 0, 0, 0, 0, 0, 0, 0, 0, 0, 0, 0, 0, 0, 0, 0, 0, 0, 0, 0,\n",
       "       0, 0, 0, 0, 0, 0, 0, 0, 0, 0, 0, 0, 0, 0, 0, 0, 0, 0, 0, 0, 0, 0,\n",
       "       0, 0, 0, 0, 0, 0, 0, 0, 0, 0, 0, 0, 0, 0, 0, 1, 1, 1, 1, 1, 1, 1,\n",
       "       1, 1, 1, 1, 1, 1, 1, 1, 1, 1, 1, 1, 1, 1, 1, 1, 1, 1, 1, 1, 1, 1,\n",
       "       1, 1, 1, 1, 1, 1, 1, 1, 1, 1, 1, 1, 1, 1, 1, 1, 1, 1, 1, 1, 1, 1,\n",
       "       1, 1, 1, 1, 1, 1, 1, 1, 1, 1, 1, 1, 1, 1, 1, 1, 1, 1, 1, 1, 2, 2,\n",
       "       2, 2, 2, 2, 2, 2, 2, 2, 2, 2, 2, 2, 2, 2, 2, 2, 2, 2, 2, 2, 2, 2,\n",
       "       2, 2, 2, 2, 2, 2, 2, 2, 2, 2, 2, 2, 2, 2, 2, 2, 2, 2, 2, 2, 2, 2,\n",
       "       2, 2])"
      ]
     },
     "execution_count": 20,
     "metadata": {},
     "output_type": "execute_result"
    }
   ],
   "source": [
    "y = wine_df.target\n",
    "y"
   ]
  },
  {
   "cell_type": "code",
   "execution_count": 21,
   "id": "6f6b6256",
   "metadata": {},
   "outputs": [
    {
     "name": "stdout",
     "output_type": "stream",
     "text": [
      "Homogeneity: 0.429\n",
      "Completeness: 0.429\n",
      "V-measure: 0.429\n",
      "Adjusted Rand Index: 0.371\n",
      "Adjusted Mutual Information: 0.423\n",
      "Silhouette Coefficient: 0.571\n"
     ]
    }
   ],
   "source": [
    "print(f\"Homogeneity: {metrics.homogeneity_score(y, labels):.3f}\")\n",
    "print(f\"Completeness: {metrics.completeness_score(y, labels):.3f}\")\n",
    "print(f\"V-measure: {metrics.v_measure_score(y, labels):.3f}\")\n",
    "print(f\"Adjusted Rand Index: {metrics.adjusted_rand_score(y, labels):.3f}\")\n",
    "print(\n",
    "    \"Adjusted Mutual Information:\"\n",
    "    f\" {metrics.adjusted_mutual_info_score(y, labels):.3f}\"\n",
    ")\n",
    "print(f\"Silhouette Coefficient: {metrics.silhouette_score(wine_df.data, labels):.3f}\")\n"
   ]
  },
  {
   "cell_type": "code",
   "execution_count": 22,
   "id": "62448a9a",
   "metadata": {},
   "outputs": [],
   "source": [
    "mirgings = linkage(wine_df.data, method='complete')"
   ]
  },
  {
   "cell_type": "code",
   "execution_count": 23,
   "id": "e9d72f0b",
   "metadata": {},
   "outputs": [
    {
     "data": {
      "image/png": "[encoded data removed]",
      "text/plain": [
       "<Figure size 640x480 with 1 Axes>"
      ]
     },
     "metadata": {},
     "output_type": "display_data"
    }
   ],
   "source": [
    "clusters = dendrogram(mirgings,leaf_rotation=90)"
   ]
  },
  {
   "cell_type": "code",
   "execution_count": null,
   "id": "64e10e59",
   "metadata": {},
   "outputs": [],
   "source": []
  }
 ],
 "metadata": {
  "kernelspec": {
   "display_name": "Python 3 (ipykernel)",
   "language": "python",
   "name": "python3"
  },
  "language_info": {
   "codemirror_mode": {
    "name": "ipython",
    "version": 3
   },
   "file_extension": ".py",
   "mimetype": "text/x-python",
   "name": "python",
   "nbconvert_exporter": "python",
   "pygments_lexer": "ipython3",
   "version": "3.9.2"
  }
 },
 "nbformat": 4,
 "nbformat_minor": 5
}
