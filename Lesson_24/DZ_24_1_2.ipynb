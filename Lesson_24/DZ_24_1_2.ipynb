{
 "cells": [
  {
   "cell_type": "markdown",
   "id": "3878f822",
   "metadata": {},
   "source": [
    "## Задача 1."
   ]
  },
  {
   "cell_type": "code",
   "execution_count": null,
   "id": "be05dbe7",
   "metadata": {},
   "outputs": [],
   "source": [
    "А1 - документ запомнив перший економіст;\n",
    "А2 - документ запомнив другий економіст;\n",
    "В - навмання взятий із папки документ з суттєвою похибкою"
   ]
  },
  {
   "cell_type": "code",
   "execution_count": 2,
   "id": "a818f111",
   "metadata": {},
   "outputs": [
    {
     "name": "stdout",
     "output_type": "stream",
     "text": [
      "Ймовірність заповнення документа з суттєвою похибкою першим економістом: 0.25000000000000006\n"
     ]
    }
   ],
   "source": [
    "p_a1 = 0.4\n",
    "p_a2 = 0.6\n",
    "p_b_a1 = 0.1\n",
    "p_b_a2 = 0.2\n",
    "\n",
    "'''За формулою повної ймовірності'''\n",
    "\n",
    "p_b = p_a1 * p_b_a1 + p_a2 * p_b_a2\n",
    "\n",
    "'''За формулою Байєса'''\n",
    "\n",
    "p_a1_b = p_a1 * p_b_a1 / p_b\n",
    "\n",
    "print(f'Ймовірність заповнення документа з суттєвою похибкою першим економістом: {p_a1_b}')"
   ]
  },
  {
   "cell_type": "markdown",
   "id": "2ab3015f",
   "metadata": {},
   "source": [
    "## Задача 2."
   ]
  },
  {
   "cell_type": "code",
   "execution_count": 8,
   "id": "abc67e9b",
   "metadata": {},
   "outputs": [
    {
     "name": "stdout",
     "output_type": "stream",
     "text": [
      "Ступінь ризику для Х товарів: 390.51248379533274\n",
      "Ступінь ризику для Y товарів: 300.0\n"
     ]
    }
   ],
   "source": [
    "'''Математичне сподівання можливого прибутку'''\n",
    "\n",
    "m_x = 1000 * 0.5 + 1500 * 0.3 + 2000 * 0.2\n",
    "m_y = 1000 * 0.4 + 1500 * 0.4 + 1750 * 0.2\n",
    "\n",
    "'''Дисперсія'''\n",
    "\n",
    "d_x = (1000 - m_x) ** 2 * 0.5 + (1500 - m_x) ** 2 * 0.3 + (2000 - m_x) ** 2 * 0.2\n",
    "s_d_x = d_x ** (1/2)\n",
    "d_y = (1000 - m_y) ** 2 * 0.4 + (1500 - m_y) ** 2 * 0.4 + (1750 - m_y) ** 2 * 0.2\n",
    "s_d_y = d_y ** (1/2)\n",
    "print(f'Ступінь ризику для Х товарів: {s_d_x}')\n",
    "print(f'Ступінь ризику для Y товарів: {s_d_y}')"
   ]
  },
  {
   "cell_type": "markdown",
   "id": "7aec0e8d",
   "metadata": {},
   "source": [
    "Ступінь ризику для товарів Х більший, ніж для товарів Y. Отже, випуск і реалізація товарів Y менш ризикований."
   ]
  },
  {
   "cell_type": "code",
   "execution_count": null,
   "id": "339b078b",
   "metadata": {},
   "outputs": [],
   "source": []
  }
 ],
 "metadata": {
  "kernelspec": {
   "display_name": "Python 3 (ipykernel)",
   "language": "python",
   "name": "python3"
  },
  "language_info": {
   "codemirror_mode": {
    "name": "ipython",
    "version": 3
   },
   "file_extension": ".py",
   "mimetype": "text/x-python",
   "name": "python",
   "nbconvert_exporter": "python",
   "pygments_lexer": "ipython3",
   "version": "3.9.2"
  }
 },
 "nbformat": 4,
 "nbformat_minor": 5
}
