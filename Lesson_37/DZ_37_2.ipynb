{
 "cells": [
  {
   "cell_type": "code",
   "execution_count": 1,
   "id": "926ac5fe",
   "metadata": {},
   "outputs": [],
   "source": [
    "import pandas as pd\n",
    "import numpy as np\n",
    "from sklearn.linear_model import LinearRegression\n",
    "from sklearn.linear_model import Lasso\n",
    "from sklearn.linear_model import Ridge\n",
    "from sklearn.linear_model import ElasticNet\n",
    "from sklearn.model_selection import train_test_split"
   ]
  },
  {
   "cell_type": "code",
   "execution_count": 2,
   "id": "dab17ab1",
   "metadata": {},
   "outputs": [
    {
     "data": {
      "text/html": [
       "<div>\n",
       "<style scoped>\n",
       "    .dataframe tbody tr th:only-of-type {\n",
       "        vertical-align: middle;\n",
       "    }\n",
       "\n",
       "    .dataframe tbody tr th {\n",
       "        vertical-align: top;\n",
       "    }\n",
       "\n",
       "    .dataframe thead th {\n",
       "        text-align: right;\n",
       "    }\n",
       "</style>\n",
       "<table border=\"1\" class=\"dataframe\">\n",
       "  <thead>\n",
       "    <tr style=\"text-align: right;\">\n",
       "      <th></th>\n",
       "      <th>8</th>\n",
       "      <th>?</th>\n",
       "      <th>?.1</th>\n",
       "      <th>Lakewoodcity</th>\n",
       "      <th>1</th>\n",
       "      <th>0.19</th>\n",
       "      <th>0.33</th>\n",
       "      <th>0.02</th>\n",
       "      <th>0.9</th>\n",
       "      <th>0.12</th>\n",
       "      <th>...</th>\n",
       "      <th>0.12.2</th>\n",
       "      <th>0.26.1</th>\n",
       "      <th>0.2.1</th>\n",
       "      <th>0.06.3</th>\n",
       "      <th>0.04.2</th>\n",
       "      <th>0.9.1</th>\n",
       "      <th>0.5.2</th>\n",
       "      <th>0.32.2</th>\n",
       "      <th>0.14.3</th>\n",
       "      <th>0.2.2</th>\n",
       "    </tr>\n",
       "  </thead>\n",
       "  <tbody>\n",
       "    <tr>\n",
       "      <th>0</th>\n",
       "      <td>53</td>\n",
       "      <td>?</td>\n",
       "      <td>?</td>\n",
       "      <td>Tukwilacity</td>\n",
       "      <td>1</td>\n",
       "      <td>0.00</td>\n",
       "      <td>0.16</td>\n",
       "      <td>0.12</td>\n",
       "      <td>0.74</td>\n",
       "      <td>0.45</td>\n",
       "      <td>...</td>\n",
       "      <td>0.02</td>\n",
       "      <td>0.12</td>\n",
       "      <td>0.45</td>\n",
       "      <td>?</td>\n",
       "      <td>?</td>\n",
       "      <td>?</td>\n",
       "      <td>?</td>\n",
       "      <td>0.0</td>\n",
       "      <td>?</td>\n",
       "      <td>0.67</td>\n",
       "    </tr>\n",
       "    <tr>\n",
       "      <th>1</th>\n",
       "      <td>24</td>\n",
       "      <td>?</td>\n",
       "      <td>?</td>\n",
       "      <td>Aberdeentown</td>\n",
       "      <td>1</td>\n",
       "      <td>0.00</td>\n",
       "      <td>0.42</td>\n",
       "      <td>0.49</td>\n",
       "      <td>0.56</td>\n",
       "      <td>0.17</td>\n",
       "      <td>...</td>\n",
       "      <td>0.01</td>\n",
       "      <td>0.21</td>\n",
       "      <td>0.02</td>\n",
       "      <td>?</td>\n",
       "      <td>?</td>\n",
       "      <td>?</td>\n",
       "      <td>?</td>\n",
       "      <td>0.0</td>\n",
       "      <td>?</td>\n",
       "      <td>0.43</td>\n",
       "    </tr>\n",
       "    <tr>\n",
       "      <th>2</th>\n",
       "      <td>34</td>\n",
       "      <td>5</td>\n",
       "      <td>81440</td>\n",
       "      <td>Willingborotownship</td>\n",
       "      <td>1</td>\n",
       "      <td>0.04</td>\n",
       "      <td>0.77</td>\n",
       "      <td>1.00</td>\n",
       "      <td>0.08</td>\n",
       "      <td>0.12</td>\n",
       "      <td>...</td>\n",
       "      <td>0.02</td>\n",
       "      <td>0.39</td>\n",
       "      <td>0.28</td>\n",
       "      <td>?</td>\n",
       "      <td>?</td>\n",
       "      <td>?</td>\n",
       "      <td>?</td>\n",
       "      <td>0.0</td>\n",
       "      <td>?</td>\n",
       "      <td>0.12</td>\n",
       "    </tr>\n",
       "    <tr>\n",
       "      <th>3</th>\n",
       "      <td>42</td>\n",
       "      <td>95</td>\n",
       "      <td>6096</td>\n",
       "      <td>Bethlehemtownship</td>\n",
       "      <td>1</td>\n",
       "      <td>0.01</td>\n",
       "      <td>0.55</td>\n",
       "      <td>0.02</td>\n",
       "      <td>0.95</td>\n",
       "      <td>0.09</td>\n",
       "      <td>...</td>\n",
       "      <td>0.04</td>\n",
       "      <td>0.09</td>\n",
       "      <td>0.02</td>\n",
       "      <td>?</td>\n",
       "      <td>?</td>\n",
       "      <td>?</td>\n",
       "      <td>?</td>\n",
       "      <td>0.0</td>\n",
       "      <td>?</td>\n",
       "      <td>0.03</td>\n",
       "    </tr>\n",
       "    <tr>\n",
       "      <th>4</th>\n",
       "      <td>6</td>\n",
       "      <td>?</td>\n",
       "      <td>?</td>\n",
       "      <td>SouthPasadenacity</td>\n",
       "      <td>1</td>\n",
       "      <td>0.02</td>\n",
       "      <td>0.28</td>\n",
       "      <td>0.06</td>\n",
       "      <td>0.54</td>\n",
       "      <td>1.00</td>\n",
       "      <td>...</td>\n",
       "      <td>0.01</td>\n",
       "      <td>0.58</td>\n",
       "      <td>0.10</td>\n",
       "      <td>?</td>\n",
       "      <td>?</td>\n",
       "      <td>?</td>\n",
       "      <td>?</td>\n",
       "      <td>0.0</td>\n",
       "      <td>?</td>\n",
       "      <td>0.14</td>\n",
       "    </tr>\n",
       "  </tbody>\n",
       "</table>\n",
       "<p>5 rows × 128 columns</p>\n",
       "</div>"
      ],
      "text/plain": [
       "    8   ?    ?.1         Lakewoodcity  1  0.19  0.33  0.02   0.9  0.12  ...  \\\n",
       "0  53   ?      ?          Tukwilacity  1  0.00  0.16  0.12  0.74  0.45  ...   \n",
       "1  24   ?      ?         Aberdeentown  1  0.00  0.42  0.49  0.56  0.17  ...   \n",
       "2  34   5  81440  Willingborotownship  1  0.04  0.77  1.00  0.08  0.12  ...   \n",
       "3  42  95   6096    Bethlehemtownship  1  0.01  0.55  0.02  0.95  0.09  ...   \n",
       "4   6   ?      ?    SouthPasadenacity  1  0.02  0.28  0.06  0.54  1.00  ...   \n",
       "\n",
       "   0.12.2  0.26.1  0.2.1  0.06.3  0.04.2  0.9.1  0.5.2  0.32.2  0.14.3  0.2.2  \n",
       "0    0.02    0.12   0.45       ?       ?      ?      ?     0.0       ?   0.67  \n",
       "1    0.01    0.21   0.02       ?       ?      ?      ?     0.0       ?   0.43  \n",
       "2    0.02    0.39   0.28       ?       ?      ?      ?     0.0       ?   0.12  \n",
       "3    0.04    0.09   0.02       ?       ?      ?      ?     0.0       ?   0.03  \n",
       "4    0.01    0.58   0.10       ?       ?      ?      ?     0.0       ?   0.14  \n",
       "\n",
       "[5 rows x 128 columns]"
      ]
     },
     "execution_count": 2,
     "metadata": {},
     "output_type": "execute_result"
    }
   ],
   "source": [
    "df = pd.read_csv('communities.csv')\n",
    "df.head()"
   ]
  },
  {
   "cell_type": "code",
   "execution_count": 8,
   "id": "11d28aa0",
   "metadata": {},
   "outputs": [],
   "source": [
    "X = df.loc[: , df.columns[1]:]\n",
    "y = df[df.columns[0]]"
   ]
  },
  {
   "cell_type": "code",
   "execution_count": 9,
   "id": "fb5fea09",
   "metadata": {},
   "outputs": [],
   "source": [
    "X_train, X_test, y_train, y_test = train_test_split(\n",
    "    X, y, test_size=0.25, random_state=0)"
   ]
  },
  {
   "cell_type": "code",
   "execution_count": 10,
   "id": "3c9c8a9c",
   "metadata": {},
   "outputs": [
    {
     "name": "stdout",
     "output_type": "stream",
     "text": [
      "Linear Regression-Training set score: 0.50\n",
      "Linear Regression-Test set score: 0.38\n"
     ]
    }
   ],
   "source": [
    "lr = LinearRegression().fit(X_train, y_train)\n",
    "\n",
    "print(f\"Linear Regression-Training set score: {lr.score(X_train, y_train):.2f}\")\n",
    "print(f\"Linear Regression-Test set score: {lr.score(X_test, y_test):.2f}\")"
   ]
  },
  {
   "cell_type": "markdown",
   "id": "9298adbc",
   "metadata": {},
   "source": [
    "### Linear Model trained with L1 prior as regularizer (aka the Lasso)."
   ]
  },
  {
   "cell_type": "code",
   "execution_count": 14,
   "id": "b1fe3caf",
   "metadata": {},
   "outputs": [
    {
     "name": "stdout",
     "output_type": "stream",
     "text": [
      "Lasso Regression-Training set score: 0.08\n",
      "Lasso Regression-Test set score: 0.08\n"
     ]
    }
   ],
   "source": [
    "lasso = Lasso(alpha=1.0).fit(X_train, y_train)\n",
    "print(f\"Lasso Regression-Training set score: {lasso.score(X_train, y_train):.2f}\")\n",
    "print(f\"Lasso Regression-Test set score: {lasso.score(X_test, y_test):.2f}\")"
   ]
  },
  {
   "cell_type": "code",
   "execution_count": 15,
   "id": "7d13c4dc",
   "metadata": {},
   "outputs": [
    {
     "name": "stdout",
     "output_type": "stream",
     "text": [
      "Number of features: 3\n"
     ]
    }
   ],
   "source": [
    "print(f\"Number of features: {sum(lasso.coef_ != 0)}\")"
   ]
  },
  {
   "cell_type": "code",
   "execution_count": 16,
   "id": "734428d2",
   "metadata": {},
   "outputs": [
    {
     "name": "stdout",
     "output_type": "stream",
     "text": [
      "Lasso Regression-Training set score: 0.48\n",
      "Lasso Regression-Test set score: 0.39\n"
     ]
    }
   ],
   "source": [
    "lasso = Lasso(alpha=0.01).fit(X_train, y_train)\n",
    "print(\"Lasso Regression-Training set score: {:.2f}\".format(lasso.score(X_train, y_train)))\n",
    "print(\"Lasso Regression-Test set score: {:.2f}\".format(lasso.score(X_test, y_test)))"
   ]
  },
  {
   "cell_type": "code",
   "execution_count": 17,
   "id": "d6271e07",
   "metadata": {},
   "outputs": [
    {
     "name": "stdout",
     "output_type": "stream",
     "text": [
      "Number of features: 68\n"
     ]
    }
   ],
   "source": [
    "print(f\"Number of features: {sum(lasso.coef_ != 0)}\")"
   ]
  },
  {
   "cell_type": "markdown",
   "id": "cc62e747",
   "metadata": {},
   "source": [
    "### Linear least squares with L2 regularization"
   ]
  },
  {
   "cell_type": "code",
   "execution_count": 18,
   "id": "e1251f9d",
   "metadata": {},
   "outputs": [
    {
     "name": "stdout",
     "output_type": "stream",
     "text": [
      "Ridge Regression-Training set score: 0.49\n",
      "Ridge Regression-Test set score: 0.38\n"
     ]
    }
   ],
   "source": [
    "ridge = Ridge(alpha=0.7).fit(X_train, y_train)\n",
    "print(f\"Ridge Regression-Training set score: {ridge.score(X_train, y_train):.2f}\")\n",
    "print(f\"Ridge Regression-Test set score: {ridge.score(X_test, y_test):.2f}\")"
   ]
  },
  {
   "cell_type": "markdown",
   "id": "eb165855",
   "metadata": {},
   "source": [
    "### Linear regression with combined L1 and L2 priors as regularizer"
   ]
  },
  {
   "cell_type": "code",
   "execution_count": 20,
   "id": "d51809bb",
   "metadata": {},
   "outputs": [
    {
     "name": "stdout",
     "output_type": "stream",
     "text": [
      "Elastic Net-Training set score: 0.44\n",
      "Elastic Net-Test set score: 0.37\n"
     ]
    }
   ],
   "source": [
    "elastic_net = ElasticNet(alpha=0.01, l1_ratio=0.01).fit(X_train, y_train)\n",
    "print(f\"Elastic Net-Training set score: {elastic_net.score(X_train, y_train):.2f}\")\n",
    "print(f\"Elastic Net-Test set score: {elastic_net.score(X_test, y_test):.2f}\")"
   ]
  },
  {
   "cell_type": "markdown",
   "id": "e2c22267",
   "metadata": {},
   "source": [
    "Метод L1 є найкращим для нормальзації набору даних."
   ]
  }
 ],
 "metadata": {
  "kernelspec": {
   "display_name": "Python 3 (ipykernel)",
   "language": "python",
   "name": "python3"
  },
  "language_info": {
   "codemirror_mode": {
    "name": "ipython",
    "version": 3
   },
   "file_extension": ".py",
   "mimetype": "text/x-python",
   "name": "python",
   "nbconvert_exporter": "python",
   "pygments_lexer": "ipython3",
   "version": "3.9.2"
  }
 },
 "nbformat": 4,
 "nbformat_minor": 5
}
