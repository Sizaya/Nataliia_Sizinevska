{
 "cells": [
  {
   "cell_type": "markdown",
   "id": "9f881dc1",
   "metadata": {},
   "source": [
    "## Задача 1."
   ]
  },
  {
   "cell_type": "code",
   "execution_count": 11,
   "id": "07834bd9",
   "metadata": {},
   "outputs": [
    {
     "name": "stdout",
     "output_type": "stream",
     "text": [
      "Оцінка для середнього квадратичного відхилення σ: (1.1277; 2.4523)\n"
     ]
    }
   ],
   "source": [
    "n = 20\n",
    "y = 0.95\n",
    "s = 1.79\n",
    "\n",
    "'''З таблиці для n, y знаходимо q'''\n",
    "\n",
    "q = 0.37\n",
    "q < 1\n",
    "sig1 = s * (1 - q)\n",
    "sig2 = s * (1 + q)\n",
    "print(f'Оцінка для середнього квадратичного відхилення σ: ({sig1}; {sig2})')"
   ]
  },
  {
   "cell_type": "markdown",
   "id": "dc07e3bd",
   "metadata": {},
   "source": [
    "## Задача 2."
   ]
  },
  {
   "cell_type": "code",
   "execution_count": 12,
   "id": "1f2af041",
   "metadata": {},
   "outputs": [
    {
     "name": "stdout",
     "output_type": "stream",
     "text": [
      "Інтервальна оцінка для ймовірності настання події А буде: (0.3093997461136028; 0.4979992153815975)\n"
     ]
    }
   ],
   "source": [
    "y = 0.95\n",
    "n = 100\n",
    "m = 40\n",
    "f_t = y / 2\n",
    "\n",
    "'''З таблиці Лапласа знаходимо t'''\n",
    "\n",
    "t = 1.96\n",
    "\n",
    "'''Знаходимо довірчі інтервали для оцінки ймовірності настання події'''\n",
    "\n",
    "p1 = 1 / ((t) ** 2 + n) * (m + (t) ** 2 / 2 - t * ((m * (n - m) / n + (t) ** 2 / 4) ** 0.5))\n",
    "p2 = 1 / ((t) ** 2 + n) * (m + (t) ** 2 / 2 + t * ((m * (n - m) / n + (t) ** 2 / 4) ** 0.5))\n",
    "print(f'Інтервальна оцінка для ймовірності настання події А буде: ({p1}; {p2})')"
   ]
  },
  {
   "cell_type": "markdown",
   "id": "74a56105",
   "metadata": {},
   "source": [
    "## Задача 3."
   ]
  },
  {
   "cell_type": "code",
   "execution_count": 9,
   "id": "fe233797",
   "metadata": {},
   "outputs": [
    {
     "data": {
      "text/plain": [
       "166.41000000000003"
      ]
     },
     "execution_count": 9,
     "metadata": {},
     "output_type": "execute_result"
    }
   ],
   "source": [
    "y = 0.99\n",
    "d = 0.6\n",
    "s = 3\n",
    "f_t = y / 2\n",
    "\n",
    "'''З таблиці Лапласа знаходимо t'''\n",
    "\n",
    "t = 2.58\n",
    "\n",
    "\"\"\"Мінімальний об'єм вибірки\"\"\"\n",
    "\n",
    "n = (t ** 2) * (s ** 2) / d ** 2\n",
    "n"
   ]
  }
 ],
 "metadata": {
  "kernelspec": {
   "display_name": "Python 3 (ipykernel)",
   "language": "python",
   "name": "python3"
  },
  "language_info": {
   "codemirror_mode": {
    "name": "ipython",
    "version": 3
   },
   "file_extension": ".py",
   "mimetype": "text/x-python",
   "name": "python",
   "nbconvert_exporter": "python",
   "pygments_lexer": "ipython3",
   "version": "3.9.2"
  }
 },
 "nbformat": 4,
 "nbformat_minor": 5
}
