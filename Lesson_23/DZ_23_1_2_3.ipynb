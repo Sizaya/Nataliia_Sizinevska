{
 "cells": [
  {
   "cell_type": "markdown",
   "id": "6fead6dd",
   "metadata": {},
   "source": [
    "## Задача 1."
   ]
  },
  {
   "cell_type": "markdown",
   "id": "8a4cfb6e",
   "metadata": {},
   "source": [
    "![формула комбінаторики](img13.jpg)"
   ]
  },
  {
   "cell_type": "markdown",
   "id": "8f5500cb",
   "metadata": {},
   "source": [
    "елементи приладу - 7\n",
    "зношені елементи - 3\n",
    "не зношені елементи - 4"
   ]
  },
  {
   "cell_type": "code",
   "execution_count": 5,
   "id": "d28b413c",
   "metadata": {},
   "outputs": [
    {
     "data": {
      "text/plain": [
       "0.5142857142857142"
      ]
     },
     "execution_count": 5,
     "metadata": {},
     "output_type": "execute_result"
    }
   ],
   "source": [
    "from math import factorial\n",
    "\n",
    "def combinations(n, k):\n",
    "    return factorial(n) / (factorial(k) * factorial(n - k))\n",
    "\n",
    "'''Ймовірність того, що при включенні приладу запуститься два не зношених елементи становить:'''\n",
    "\n",
    "p_a = combinations(4, 2) * combinations(3, 1) / combinations(7, 3)\n",
    "p_a"
   ]
  },
  {
   "cell_type": "markdown",
   "id": "cd8c0541",
   "metadata": {},
   "source": [
    "## Задача 2."
   ]
  },
  {
   "cell_type": "markdown",
   "id": "7f3d8f84",
   "metadata": {},
   "source": [
    "1й сигналізатор - 0.95 \n",
    "2й сигналізатор - 0.9"
   ]
  },
  {
   "cell_type": "code",
   "execution_count": null,
   "id": "b2ac08a6",
   "metadata": {},
   "outputs": [],
   "source": [
    "Спрацює 1й сигналізатор:"
   ]
  },
  {
   "cell_type": "code",
   "execution_count": 2,
   "id": "9d97ce60",
   "metadata": {},
   "outputs": [
    {
     "data": {
      "text/plain": [
       "0.050000000000000044"
      ]
     },
     "execution_count": 2,
     "metadata": {},
     "output_type": "execute_result"
    }
   ],
   "source": [
    "a = 0.95\n",
    "p_a = 1 - a\n",
    "p_a"
   ]
  },
  {
   "cell_type": "markdown",
   "id": "a6342af2",
   "metadata": {},
   "source": [
    "Спрацює 2й сигналізатор:"
   ]
  },
  {
   "cell_type": "code",
   "execution_count": 1,
   "id": "36d40d0d",
   "metadata": {},
   "outputs": [
    {
     "data": {
      "text/plain": [
       "0.09999999999999998"
      ]
     },
     "execution_count": 1,
     "metadata": {},
     "output_type": "execute_result"
    }
   ],
   "source": [
    "b = 0.9\n",
    "p_b = 1 - b\n",
    "p_b"
   ]
  },
  {
   "cell_type": "markdown",
   "id": "b44c9c2b",
   "metadata": {},
   "source": [
    "Спрацює тільки один сигналізатор:"
   ]
  },
  {
   "cell_type": "code",
   "execution_count": 4,
   "id": "54152d7f",
   "metadata": {},
   "outputs": [
    {
     "data": {
      "text/plain": [
       "0.995"
      ]
     },
     "execution_count": 4,
     "metadata": {},
     "output_type": "execute_result"
    }
   ],
   "source": [
    "a = 0.95\n",
    "b = 0.9\n",
    "p_a = 0.05\n",
    "p_b = 0.1\n",
    "p_c = a * p_b + b * p_a + a * b\n",
    "p_c"
   ]
  },
  {
   "cell_type": "markdown",
   "id": "113613b9",
   "metadata": {},
   "source": [
    "## Задача 3. "
   ]
  },
  {
   "cell_type": "code",
   "execution_count": 4,
   "id": "42a830c6",
   "metadata": {},
   "outputs": [
    {
     "name": "stdout",
     "output_type": "stream",
     "text": [
      "Ймовірність того, що навмання взятий з конвеєра виріб вищого гатунку: 0.6799999999999999\n",
      "Ймовірність того, що навмання взятий виріб вищого гатунку, виготовлений на першому верстаті: 0.5882352941176471\n"
     ]
    }
   ],
   "source": [
    "'''А - виріб без браку.Можна сформувати дві гепотези: В1 - виріб виготовлений на першому верстаті\n",
    "(оскільки перший верстат виготовляє в два рази більше виробів ніж другий)'''\n",
    "\n",
    "p_b1 = 2 / 3\n",
    "\n",
    "'''В2 - виріб виготовлений другим верстатом, причому:'''\n",
    "\n",
    "p_b2 = 1 / 3\n",
    "\n",
    "'''Умовна ймовірність того, що виріб буде вищого гатунку, якщо він зроблений першим верстатом'''\n",
    "\n",
    "p_b1_a = 0.6\n",
    "\n",
    "'''Умовна ймовірність того, що виріб буде вищого гатунку, якщо він зроблений другим верстатом'''\n",
    "\n",
    "p_b2_a = 0.84\n",
    "\n",
    "'''Формула повної ймовірності:'''\n",
    "p_a = p_b1 * p_b1_a + p_b2 * p_b2_a\n",
    "print(f'Ймовірність того, що навмання взятий з конвеєра виріб вищого гатунку: {p_a}')\n",
    "\n",
    "'''Формула Бфйєса:'''\n",
    "p_a_b1 = p_b1 * p_b1_a / p_a\n",
    "print(f'Ймовірність того, що навмання взятий виріб вищого гатунку виготовлений на першому верстаті: {p_a_b1}')\n",
    "\n"
   ]
  },
  {
   "cell_type": "code",
   "execution_count": null,
   "id": "13ba6bc7",
   "metadata": {},
   "outputs": [],
   "source": []
  }
 ],
 "metadata": {
  "kernelspec": {
   "display_name": "Python 3 (ipykernel)",
   "language": "python",
   "name": "python3"
  },
  "language_info": {
   "codemirror_mode": {
    "name": "ipython",
    "version": 3
   },
   "file_extension": ".py",
   "mimetype": "text/x-python",
   "name": "python",
   "nbconvert_exporter": "python",
   "pygments_lexer": "ipython3",
   "version": "3.9.2"
  }
 },
 "nbformat": 4,
 "nbformat_minor": 5
}
