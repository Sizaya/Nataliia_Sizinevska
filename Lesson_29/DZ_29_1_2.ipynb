{
 "cells": [
  {
   "cell_type": "markdown",
   "id": "6686eca4",
   "metadata": {},
   "source": [
    "## Задача 1."
   ]
  },
  {
   "cell_type": "markdown",
   "id": "32f6a73d",
   "metadata": {},
   "source": [
    "Середній частковий інтервал:\n",
    "\n",
    "xi |12|36|60|84|108|132|156|180|204\n",
    ":-:|:-|:-|:-|:-|:--|:--|:--|:--|:-:\n",
    "ni | 1| 2|4 |6 |12 |16 |6  |2  | 1\n",
    "\n",
    "H0 - вибірка має нормальний розподіл ознаки генеральної сукупності \n",
    "\n",
    "H1 - вибірка не має нормальний розподіл ознаки генеральної сукупності"
   ]
  },
  {
   "cell_type": "code",
   "execution_count": 16,
   "id": "852f9560",
   "metadata": {},
   "outputs": [
    {
     "data": {
      "text/plain": [
       "38.1109118232561"
      ]
     },
     "execution_count": 16,
     "metadata": {},
     "output_type": "execute_result"
    }
   ],
   "source": [
    "n = 50\n",
    "'''Середнє значення'''\n",
    "x_str = 1 / n * (12 * 1 + 36 * 2 + 60 * 4 + 84 * 6 + 108 * 12 + 132 * 16 + 156 * 6 + 180 * 2 + 204 * 1)\n",
    "d = (1 / n * (12 ** 2 * 1  + 36 ** 2 * 2 + 60 ** 2 * 4 + 84 ** 2 * 6 + 108 ** 2 * 12 + 132 ** 2 * 16 + 156 ** 2 * 6 + 180 ** 2 * 2 + 204 ** 2 * 1)) - x_str ** 2\n",
    "s = d ** 0.5\n",
    "s"
   ]
  },
  {
   "cell_type": "markdown",
   "id": "6b29a6ea",
   "metadata": {},
   "source": [
    "i  | (Zi-1;Zi) | Ф(Zi-1)| Ф(Zi) |   pi |ni=50pi\n",
    ":-:|:-------   |:------ |:----  |:---- |:-----:\n",
    " 1 |  -∞; -2.38|  -0.5  |-0.4913|0.0087|   1\n",
    " 2 |-2.38;-1.75|-0.4913 |-0.4599|0.0314|   2\n",
    " 3 |-1.75;-1.12|-0.4599 |-0.3686|0.0913|   5\n",
    " 4 |-1.12;-0.49|-0.3686 |-0.1879|0.1807|   9\n",
    " 5 |-0.49; 0.14|-0.1879 | 0.0557|0.2436|   12\n",
    " 6 | 0.14; 0.77| 0.0557 | 0.2794|0.2237|   11\n",
    " 7 | 0.77; 1.40| 0.2794 | 0.4192|0.1398|   7\n",
    " 8 | 1.40; 2.08| 0.4192 | 0.4812|0.062 |   3\n",
    " 9 | 2.08;  +∞ | 0.4812 | 0.5   |0.0188|   1"
   ]
  },
  {
   "cell_type": "code",
   "execution_count": 21,
   "id": "3cea22f7",
   "metadata": {},
   "outputs": [
    {
     "data": {
      "text/plain": [
       "3.948917748917749"
      ]
     },
     "execution_count": 21,
     "metadata": {},
     "output_type": "execute_result"
    }
   ],
   "source": [
    "k_emp = (1 - 1) ** 2 / 1 + (2 - 2) ** 2 / 2 + (4 - 5) ** 2 / 5 + (6 - 9) ** 2 / 9 + (12 - 12) ** 2 / 12 + (16 - 11) ** 2 / 11 + (6 - 7) ** 2 / 7 + (2 - 3) ** 2 / 3 + (1 - 1) ** 2 / 1\n",
    "k_emp"
   ]
  },
  {
   "cell_type": "code",
   "execution_count": 18,
   "id": "34dc38eb",
   "metadata": {},
   "outputs": [
    {
     "data": {
      "text/plain": [
       "6"
      ]
     },
     "execution_count": 18,
     "metadata": {},
     "output_type": "execute_result"
    }
   ],
   "source": [
    "r = 9 - 2 - 1\n",
    "r"
   ]
  },
  {
   "cell_type": "code",
   "execution_count": 19,
   "id": "6315040d",
   "metadata": {},
   "outputs": [],
   "source": [
    "k_kr = 16.8"
   ]
  },
  {
   "cell_type": "markdown",
   "id": "2d548ae6",
   "metadata": {},
   "source": [
    "Kемп < Kкр, тому ми приймаємо H0 - вибірка має нормальний розподіл ознаки генеральної сукупності"
   ]
  },
  {
   "cell_type": "markdown",
   "id": "99d4464a",
   "metadata": {},
   "source": [
    "## Задача 2."
   ]
  },
  {
   "cell_type": "markdown",
   "id": "00b92109",
   "metadata": {},
   "source": [
    "\n",
    "\n",
    "Відомо що P(X>=3) = 0.4, M(X) = 2\n",
    "\n",
    "Проміжок можливих значень рівномірно розподіленої випадкової величини є [a;b], тоді функція щільності розподілу має вигляд:\n",
    "f(x) = 0, якщо x < a\n",
    "f(x) = 1 / (b-a), якщо a < x <= b\n",
    "f(x) = 0, якщо x > b\n",
    "\n",
    "Формула математичного сподівання буде мати вигляд:\n",
    "M(X) = ∫ba x / (b-a) dx\n",
    "\n",
    "Визначимо проміжок (а;b) зміни випадкової величини склавши систему рівнянь\n",
    "\n",
    "∫b3 1 / (b-a) dx = 0.4\n",
    "∫ba x / (b-a) dx = 2\n",
    "\n",
    "x / (b-a) |b3 = 0.4\n",
    "x2 / 2(b-a) |ba = 2\n",
    "\n",
    "(b-3) / (b-a) = 0.4\n",
    "(b2 - a2) / 2(b-a) = 2\n",
    "\n",
    "(b-3) / (b-a) = 0.4\n",
    "(b+a) / 2 = 2\n",
    "\n",
    "0.6b + 0.4a = 3\n",
    "b = 4 - a\n",
    "\n",
    "a = -3\n",
    "b = 7\n",
    "\n",
    "Отже,\n",
    "f(x) = 0, якщо x < -3\n",
    "f(x) = 0.1, якщо -3 < x <= 7\n",
    "f(x) = 0, якщо x > 7\n"
   ]
  }
 ],
 "metadata": {
  "kernelspec": {
   "display_name": "Python 3 (ipykernel)",
   "language": "python",
   "name": "python3"
  },
  "language_info": {
   "codemirror_mode": {
    "name": "ipython",
    "version": 3
   },
   "file_extension": ".py",
   "mimetype": "text/x-python",
   "name": "python",
   "nbconvert_exporter": "python",
   "pygments_lexer": "ipython3",
   "version": "3.9.2"
  }
 },
 "nbformat": 4,
 "nbformat_minor": 5
}
