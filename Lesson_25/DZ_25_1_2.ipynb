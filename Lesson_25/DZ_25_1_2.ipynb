{
 "cells": [
  {
   "cell_type": "markdown",
   "id": "338e122e",
   "metadata": {},
   "source": [
    "## Задача 1."
   ]
  },
  {
   "cell_type": "markdown",
   "id": "70c2de38",
   "metadata": {},
   "source": [
    "| y/x| 1  | 2  | 3  |P(y)|\n",
    "|:---|:--:|:--:|:--:|---:|\n",
    "| -1 |0.15|0.2 |0.05|0.4 |\n",
    "|  1 |0.25|0.18|0.17|0.6 |\n",
    "|P(x)|0.4 |0.38|0.22| 1  |"
   ]
  },
  {
   "cell_type": "code",
   "execution_count": 14,
   "id": "bceacb4b",
   "metadata": {},
   "outputs": [
    {
     "data": {
      "text/plain": [
       "0.18263631759994226"
      ]
     },
     "execution_count": 14,
     "metadata": {},
     "output_type": "execute_result"
    }
   ],
   "source": [
    "m_x = 1 * 0.4 + 2 * 0.38 + 3 * 0.22\n",
    "m_y = -1 * 0.4 + 1 * 0.6\n",
    "m_xy = -1 * 1 * 0.15 + -1 * 2 * 0.2 + -1 * 3 * 0.05 + 1 * 1 * 0.25 + 1 * 2 * 0.18 + 1 * 3 * 0.17\n",
    "d_x = 1 ** 2 * 0.4 + 2 ** 2 * 0.38 + 3 ** 2 * 0.22 - m_x ** 2\n",
    "s_x = d_x ** 0.5\n",
    "d_y = -1 ** 2 * 0.4 + 1 ** 2 * 0.6 - m_y ** 2\n",
    "s_y = d_y ** 0.5\n",
    "cov_xy = m_xy - m_x * m_y\n",
    "r_xy = cov_xy / (s_x * s_y)\n",
    "r_xy"
   ]
  },
  {
   "cell_type": "markdown",
   "id": "a94ea9cf",
   "metadata": {},
   "source": [
    "## Задача 2."
   ]
  },
  {
   "cell_type": "code",
   "execution_count": 3,
   "id": "75398fa0",
   "metadata": {},
   "outputs": [
    {
     "name": "stdout",
     "output_type": "stream",
     "text": [
      "2.6999999999999997\n",
      "4.000000000000001\n",
      "3.7161808352124095\n",
      "7.899367063252599\n",
      "10.86\n",
      "0.05999999999999872\n",
      "0.002043911636687936\n"
     ]
    }
   ],
   "source": [
    "m_x = 10 * 0.1 + 5 * 0.3 + 2 * 0.2 + 1 * 0.3 + (-5) * 0.1\n",
    "print(m_x)\n",
    "\n",
    "m_y = 20 * 0.1 + 10 * 0.3 + 2 * 0.2 + (-2) * 0.3 + (-8) * 0.1\n",
    "print(m_y)\n",
    "\n",
    "d_x = 10 ** 2 * 0.1 + 5 ** 2 * 0.3 + 2 ** 2 * 0.2 + 1 ** 2 * 0.3 + (-5) ** 2 * 0.1 - m_x ** 2\n",
    "s_x = d_x ** 0.5\n",
    "print(s_x)\n",
    "\n",
    "d_y = 20 ** 2 * 0.1 + 10 ** 2 * 0.3 + 2 ** 2 * 0.2 + (-2) ** 2 * 0.3 + (-8) ** 2 * 0.1 - m_y ** 2\n",
    "s_y = d_y ** 0.5\n",
    "print(s_y)\n",
    "\n",
    "m_xy = 20 * 10 * 0.01 + 20 * 5 * 0.03 + 20 * 2 * 0.02 + 20 * 1 * 0.03 + 20 * -5 * 0.01 + 10 * 10 * 0.03 + 10 * 5 * 0.09 + 10 * 2 * 0.06 + 10 * 1 * 0.09 + 10 * -5 * 0.03 + 2 * 10 * 0.02 + 2 * 5 * 0.06 + 2 * 2 * 0.04 + 2 * 1 * 0.09 + 2 * -5 * 0.02 + -2 * 10 * 0.03 + -2 * 5 * 0.09 + -2 * 2 * 0.06 + -2 * 1 * 0.09 + -2 * -5 * 0.03 + -8 * 10 * 0.01 + -8 * 5 * 0.03 + -8 * 2 * 0.02 + -8 * 1 * 0.03 + -8 * -5 * 0.01\n",
    "m_xy\n",
    "print(m_xy)\n",
    "\n",
    "cov_xy = m_xy - m_x * m_y\n",
    "cov_xy\n",
    "print(cov_xy)\n",
    "\n",
    "r_xy = cov_xy / (s_x * s_y)\n",
    "print(r_xy)"
   ]
  },
  {
   "cell_type": "code",
   "execution_count": null,
   "id": "e3789e35",
   "metadata": {},
   "outputs": [],
   "source": []
  }
 ],
 "metadata": {
  "kernelspec": {
   "display_name": "Python 3 (ipykernel)",
   "language": "python",
   "name": "python3"
  },
  "language_info": {
   "codemirror_mode": {
    "name": "ipython",
    "version": 3
   },
   "file_extension": ".py",
   "mimetype": "text/x-python",
   "name": "python",
   "nbconvert_exporter": "python",
   "pygments_lexer": "ipython3",
   "version": "3.9.2"
  }
 },
 "nbformat": 4,
 "nbformat_minor": 5
}
