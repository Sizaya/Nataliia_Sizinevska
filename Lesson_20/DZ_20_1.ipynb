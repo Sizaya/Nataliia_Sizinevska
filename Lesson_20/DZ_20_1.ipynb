{
 "cells": [
  {
   "cell_type": "markdown",
   "id": "750ce052",
   "metadata": {},
   "source": [
    "|year  |rank  |company                |revenue   |profit\n",
    "|:---  |:---: |:-----:                |:------:  |---:\n",
    "|1955  |229   |Norton                 |135.0     |N.A.\n",
    "|1955  |291   |Schlitz Brewing        |100.0     |N.A.\n",
    "|1955  |295   |Racific Vegetable Oil  |97.9      |N.A.\n",
    "|1955  |297   |Liebmann Breweries     |96.0      |N.A.\n",
    "|1955  |353   |Minneapolis-Moline     |77.4      |N.A."
   ]
  },
  {
   "cell_type": "code",
   "execution_count": null,
   "id": "6f28a2bd",
   "metadata": {},
   "outputs": [],
   "source": []
  }
 ],
 "metadata": {
  "kernelspec": {
   "display_name": "Python 3 (ipykernel)",
   "language": "python",
   "name": "python3"
  },
  "language_info": {
   "codemirror_mode": {
    "name": "ipython",
    "version": 3
   },
   "file_extension": ".py",
   "mimetype": "text/x-python",
   "name": "python",
   "nbconvert_exporter": "python",
   "pygments_lexer": "ipython3",
   "version": "3.9.2"
  }
 },
 "nbformat": 4,
 "nbformat_minor": 5
}
