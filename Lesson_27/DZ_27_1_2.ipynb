{
 "cells": [
  {
   "cell_type": "markdown",
   "id": "c6cca710",
   "metadata": {},
   "source": [
    "## Задача 1.\n"
   ]
  },
  {
   "cell_type": "markdown",
   "id": "c5b6911e",
   "metadata": {},
   "source": [
    "Розподіл Пуассона – це граничний випадок біноміального, коли ймовірність р дуже мала, а число випробувань n велике:\n",
    "де a=np<10\n",
    "n = 10000 - велика\n",
    "р = 0.0007 - дуже мала, близька до 0\n",
    "їх добуток a = np = 7<10"
   ]
  },
  {
   "cell_type": "code",
   "execution_count": 5,
   "id": "12c5c190",
   "metadata": {},
   "outputs": [
    {
     "data": {
      "text/plain": [
       "7.0"
      ]
     },
     "execution_count": 5,
     "metadata": {},
     "output_type": "execute_result"
    }
   ],
   "source": [
    "'''Математичне сподівання'''\n",
    "\n",
    "m_x = 10000 * 0.0007\n",
    "m_x"
   ]
  },
  {
   "cell_type": "code",
   "execution_count": 6,
   "id": "65429838",
   "metadata": {},
   "outputs": [
    {
     "data": {
      "text/plain": [
       "7.0"
      ]
     },
     "execution_count": 6,
     "metadata": {},
     "output_type": "execute_result"
    }
   ],
   "source": [
    "'''Дисперсія'''\n",
    "\n",
    "d_x = 10000 * 0.0007\n",
    "d_x"
   ]
  },
  {
   "cell_type": "code",
   "execution_count": 8,
   "id": "2ece573b",
   "metadata": {},
   "outputs": [
    {
     "data": {
      "text/plain": [
       "2.6457513110645907"
      ]
     },
     "execution_count": 8,
     "metadata": {},
     "output_type": "execute_result"
    }
   ],
   "source": [
    "'''Середнє квадратичне відхилення'''\n",
    "\n",
    "s_x = (10000 * 0.0007) ** 0.5\n",
    "s_x"
   ]
  },
  {
   "cell_type": "markdown",
   "id": "2378d079",
   "metadata": {},
   "source": [
    "## Задача 2."
   ]
  },
  {
   "cell_type": "code",
   "execution_count": 14,
   "id": "93e98793",
   "metadata": {},
   "outputs": [
    {
     "name": "stdout",
     "output_type": "stream",
     "text": [
      "Дисперсія: 1.0000000000005116\n",
      "Середнє квадратичне відхилення: 1.0000000000002558\n"
     ]
    }
   ],
   "source": [
    "n = 10000\n",
    "p = (100 - 99.99) / 100\n",
    "\n",
    "'''Дисперсія'''\n",
    "\n",
    "d_x = n * p\n",
    "print(f'Дисперсія: {d_x}')\n",
    "\n",
    "'''Середнє квадратичне відхилення'''\n",
    "\n",
    "s_x = (n * p) ** 0.5\n",
    "print(f'Середнє квадратичне відхилення: {s_x}')"
   ]
  },
  {
   "cell_type": "code",
   "execution_count": null,
   "id": "21645f3d",
   "metadata": {},
   "outputs": [],
   "source": []
  }
 ],
 "metadata": {
  "kernelspec": {
   "display_name": "Python 3 (ipykernel)",
   "language": "python",
   "name": "python3"
  },
  "language_info": {
   "codemirror_mode": {
    "name": "ipython",
    "version": 3
   },
   "file_extension": ".py",
   "mimetype": "text/x-python",
   "name": "python",
   "nbconvert_exporter": "python",
   "pygments_lexer": "ipython3",
   "version": "3.9.2"
  }
 },
 "nbformat": 4,
 "nbformat_minor": 5
}
