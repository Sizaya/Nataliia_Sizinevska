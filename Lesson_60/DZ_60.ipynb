{
 "cells": [
  {
   "cell_type": "code",
   "execution_count": 15,
   "id": "d1031e49",
   "metadata": {},
   "outputs": [],
   "source": [
    "import cv2\n",
    "import numpy as np"
   ]
  },
  {
   "cell_type": "code",
   "execution_count": 16,
   "id": "7cb7bcb2",
   "metadata": {},
   "outputs": [],
   "source": [
    "peach = cv2.imread('peach.jpg')\n",
    "maps = cv2.imread('map.png')"
   ]
  },
  {
   "cell_type": "code",
   "execution_count": 17,
   "id": "173fc8c0",
   "metadata": {},
   "outputs": [],
   "source": [
    "gray_peach = cv2.cvtColor(peach, cv2.COLOR_BGR2GRAY)\n",
    "gray_maps = cv2.cvtColor(maps, cv2.COLOR_BGR2GRAY)"
   ]
  },
  {
   "cell_type": "code",
   "execution_count": 18,
   "id": "45c3bf63",
   "metadata": {},
   "outputs": [],
   "source": [
    "sobelx = cv2.Sobel(gray_peach, cv2.CV_64F, 1, 0, ksize=3)\n",
    "sobely = cv2.Sobel(gray_peach, cv2.CV_64F, 0, 1, ksize=3)\n",
    "sobel_peach = sobelx + sobely"
   ]
  },
  {
   "cell_type": "code",
   "execution_count": 19,
   "id": "63dc350a",
   "metadata": {},
   "outputs": [],
   "source": [
    "sobelx = cv2.Sobel(gray_maps, cv2.CV_64F, 1, 0, ksize=3)\n",
    "sobely = cv2.Sobel(gray_maps, cv2.CV_64F, 0, 1, ksize=3)\n",
    "sobel_maps = sobelx + sobely"
   ]
  },
  {
   "cell_type": "code",
   "execution_count": 20,
   "id": "096970ee",
   "metadata": {},
   "outputs": [],
   "source": [
    "cv2.imshow('sobel_peach', sobel_peach)\n",
    "cv2.imshow('sobel_maps', sobel_maps)\n",
    "cv2.waitKey(0)\n",
    "cv2.destroyAllWindows()"
   ]
  },
  {
   "cell_type": "code",
   "execution_count": 21,
   "id": "36bacb43",
   "metadata": {},
   "outputs": [],
   "source": [
    "canny_peach = cv2.Canny(gray_peach, 50, 150)\n",
    "canny_maps = cv2.Canny(gray_maps, 50, 150)"
   ]
  },
  {
   "cell_type": "code",
   "execution_count": 22,
   "id": "82522574",
   "metadata": {},
   "outputs": [],
   "source": [
    "cv2.imshow('canny_peach', canny_peach)\n",
    "cv2.imshow('canny_maps', canny_maps)\n",
    "cv2.waitKey(0)\n",
    "cv2.destroyAllWindows()"
   ]
  },
  {
   "cell_type": "code",
   "execution_count": 23,
   "id": "721735df",
   "metadata": {},
   "outputs": [],
   "source": [
    "roberts_kernel_x = np.array([[1, 0], [0, -1]], dtype=int)\n",
    "roberts_kernel_y = np.array([[0, 1], [-1, 0]], dtype=int)"
   ]
  },
  {
   "cell_type": "code",
   "execution_count": 24,
   "id": "3e60faf1",
   "metadata": {},
   "outputs": [],
   "source": [
    "robertsx = cv2.filter2D(gray_peach, -1, roberts_kernel_x)\n",
    "robertsy = cv2.filter2D(gray_peach, -1, roberts_kernel_y)\n",
    "roberts_peach = robertsx + robertsy"
   ]
  },
  {
   "cell_type": "code",
   "execution_count": 25,
   "id": "b10f4171",
   "metadata": {},
   "outputs": [],
   "source": [
    "roberts_x = cv2.filter2D(gray_maps, -1, roberts_kernel_x)\n",
    "roberts_y = cv2.filter2D(gray_maps, -1, roberts_kernel_y)\n",
    "roberts_maps = roberts_x + roberts_y"
   ]
  },
  {
   "cell_type": "code",
   "execution_count": 26,
   "id": "2b3bf543",
   "metadata": {},
   "outputs": [],
   "source": [
    "cv2.imshow('roberts_peach', roberts_peach)\n",
    "cv2.imshow('roberts_maps', roberts_maps)\n",
    "cv2.waitKey(0)\n",
    "cv2.destroyAllWindows()"
   ]
  },
  {
   "cell_type": "markdown",
   "id": "1db5a667",
   "metadata": {},
   "source": [
    "### Фільтри Собеля, Кенні та Робертса є популярними алгоритмами для виділення границь на зображенні. Основною різницею між ними є те, як вони визначають границі на зображенні та які ядра використовуються для цього.\n",
    "### Фільтр Собеля добре працює на зображеннях зі значним рівнем шуму, але може відфільтрувати тонкі границі.\n",
    "### Фільтр Робертса дуже швидкий, але може втратити деяку чутливість до тонких границь.\n",
    "### Фільтр Кенні пройшовши через декілька етапів, дозволяє отримати більш точні та надійні результати визначення границь на зображенні. Він найбільш точний, але відносно повільний.\n",
    "### У кінцевому результаті, вибір фільтру залежить від потреб в конкретному випадку, таких як швидкість обробки, рівень шуму на зображенні, розмір зображення та потреба в точності визначення границь на зображенні."
   ]
  }
 ],
 "metadata": {
  "kernelspec": {
   "display_name": "Python 3 (ipykernel)",
   "language": "python",
   "name": "python3"
  },
  "language_info": {
   "codemirror_mode": {
    "name": "ipython",
    "version": 3
   },
   "file_extension": ".py",
   "mimetype": "text/x-python",
   "name": "python",
   "nbconvert_exporter": "python",
   "pygments_lexer": "ipython3",
   "version": "3.9.2"
  }
 },
 "nbformat": 4,
 "nbformat_minor": 5
}
